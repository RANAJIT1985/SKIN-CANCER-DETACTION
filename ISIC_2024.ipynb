{
 "cells": [
  {
   "cell_type": "markdown",
   "id": "2737622e",
   "metadata": {},
   "source": [
    "# ♋Skin Cancer Detection | CNN (img + csv)\n",
    "### Python · SIIM Melanoma Prep Data, ISIC 2024 - Skin Cancer Detection with 3D-TBP"
   ]
  },
  {
   "cell_type": "markdown",
   "id": "16e66d27",
   "metadata": {},
   "source": [
    "### IMPORTING OF LIBRARIES"
   ]
  },
  {
   "cell_type": "code",
   "execution_count": 1,
   "id": "5a5d6b5a",
   "metadata": {},
   "outputs": [],
   "source": [
    "import pandas as pd\n",
    "import numpy as np\n",
    "import matplotlib.pyplot as plt\n",
    "import seaborn as sns"
   ]
  },
  {
   "cell_type": "markdown",
   "id": "69eaabe4",
   "metadata": {},
   "source": [
    "### IMPORTING OF DATA FILES"
   ]
  },
  {
   "cell_type": "code",
   "execution_count": 2,
   "id": "9f2aa604",
   "metadata": {},
   "outputs": [
    {
     "name": "stderr",
     "output_type": "stream",
     "text": [
      "C:\\Users\\DELL\\AppData\\Local\\Temp\\ipykernel_22668\\3034796033.py:1: DtypeWarning: Columns (51,52) have mixed types. Specify dtype option on import or set low_memory=False.\n",
      "  df = pd.read_csv('train-metadata.csv')\n"
     ]
    }
   ],
   "source": [
    "df = pd.read_csv('train-metadata.csv')"
   ]
  },
  {
   "cell_type": "code",
   "execution_count": 3,
   "id": "21884653",
   "metadata": {},
   "outputs": [
    {
     "data": {
      "text/html": [
       "<div>\n",
       "<style scoped>\n",
       "    .dataframe tbody tr th:only-of-type {\n",
       "        vertical-align: middle;\n",
       "    }\n",
       "\n",
       "    .dataframe tbody tr th {\n",
       "        vertical-align: top;\n",
       "    }\n",
       "\n",
       "    .dataframe thead th {\n",
       "        text-align: right;\n",
       "    }\n",
       "</style>\n",
       "<table border=\"1\" class=\"dataframe\">\n",
       "  <thead>\n",
       "    <tr style=\"text-align: right;\">\n",
       "      <th></th>\n",
       "      <th>isic_id</th>\n",
       "      <th>target</th>\n",
       "      <th>patient_id</th>\n",
       "      <th>age_approx</th>\n",
       "      <th>sex</th>\n",
       "      <th>anatom_site_general</th>\n",
       "      <th>clin_size_long_diam_mm</th>\n",
       "      <th>image_type</th>\n",
       "      <th>tbp_tile_type</th>\n",
       "      <th>tbp_lv_A</th>\n",
       "      <th>...</th>\n",
       "      <th>lesion_id</th>\n",
       "      <th>iddx_full</th>\n",
       "      <th>iddx_1</th>\n",
       "      <th>iddx_2</th>\n",
       "      <th>iddx_3</th>\n",
       "      <th>iddx_4</th>\n",
       "      <th>iddx_5</th>\n",
       "      <th>mel_mitotic_index</th>\n",
       "      <th>mel_thick_mm</th>\n",
       "      <th>tbp_lv_dnn_lesion_confidence</th>\n",
       "    </tr>\n",
       "  </thead>\n",
       "  <tbody>\n",
       "    <tr>\n",
       "      <th>0</th>\n",
       "      <td>ISIC_0015670</td>\n",
       "      <td>0</td>\n",
       "      <td>IP_1235828</td>\n",
       "      <td>60.0</td>\n",
       "      <td>male</td>\n",
       "      <td>lower extremity</td>\n",
       "      <td>3.04</td>\n",
       "      <td>TBP tile: close-up</td>\n",
       "      <td>3D: white</td>\n",
       "      <td>20.244422</td>\n",
       "      <td>...</td>\n",
       "      <td>NaN</td>\n",
       "      <td>Benign</td>\n",
       "      <td>Benign</td>\n",
       "      <td>NaN</td>\n",
       "      <td>NaN</td>\n",
       "      <td>NaN</td>\n",
       "      <td>NaN</td>\n",
       "      <td>NaN</td>\n",
       "      <td>NaN</td>\n",
       "      <td>97.517282</td>\n",
       "    </tr>\n",
       "    <tr>\n",
       "      <th>1</th>\n",
       "      <td>ISIC_0015845</td>\n",
       "      <td>0</td>\n",
       "      <td>IP_8170065</td>\n",
       "      <td>60.0</td>\n",
       "      <td>male</td>\n",
       "      <td>head/neck</td>\n",
       "      <td>1.10</td>\n",
       "      <td>TBP tile: close-up</td>\n",
       "      <td>3D: white</td>\n",
       "      <td>31.712570</td>\n",
       "      <td>...</td>\n",
       "      <td>IL_6727506</td>\n",
       "      <td>Benign</td>\n",
       "      <td>Benign</td>\n",
       "      <td>NaN</td>\n",
       "      <td>NaN</td>\n",
       "      <td>NaN</td>\n",
       "      <td>NaN</td>\n",
       "      <td>NaN</td>\n",
       "      <td>NaN</td>\n",
       "      <td>3.141455</td>\n",
       "    </tr>\n",
       "    <tr>\n",
       "      <th>2</th>\n",
       "      <td>ISIC_0015864</td>\n",
       "      <td>0</td>\n",
       "      <td>IP_6724798</td>\n",
       "      <td>60.0</td>\n",
       "      <td>male</td>\n",
       "      <td>posterior torso</td>\n",
       "      <td>3.40</td>\n",
       "      <td>TBP tile: close-up</td>\n",
       "      <td>3D: XP</td>\n",
       "      <td>22.575830</td>\n",
       "      <td>...</td>\n",
       "      <td>NaN</td>\n",
       "      <td>Benign</td>\n",
       "      <td>Benign</td>\n",
       "      <td>NaN</td>\n",
       "      <td>NaN</td>\n",
       "      <td>NaN</td>\n",
       "      <td>NaN</td>\n",
       "      <td>NaN</td>\n",
       "      <td>NaN</td>\n",
       "      <td>99.804040</td>\n",
       "    </tr>\n",
       "    <tr>\n",
       "      <th>3</th>\n",
       "      <td>ISIC_0015902</td>\n",
       "      <td>0</td>\n",
       "      <td>IP_4111386</td>\n",
       "      <td>65.0</td>\n",
       "      <td>male</td>\n",
       "      <td>anterior torso</td>\n",
       "      <td>3.22</td>\n",
       "      <td>TBP tile: close-up</td>\n",
       "      <td>3D: XP</td>\n",
       "      <td>14.242329</td>\n",
       "      <td>...</td>\n",
       "      <td>NaN</td>\n",
       "      <td>Benign</td>\n",
       "      <td>Benign</td>\n",
       "      <td>NaN</td>\n",
       "      <td>NaN</td>\n",
       "      <td>NaN</td>\n",
       "      <td>NaN</td>\n",
       "      <td>NaN</td>\n",
       "      <td>NaN</td>\n",
       "      <td>99.989998</td>\n",
       "    </tr>\n",
       "    <tr>\n",
       "      <th>4</th>\n",
       "      <td>ISIC_0024200</td>\n",
       "      <td>0</td>\n",
       "      <td>IP_8313778</td>\n",
       "      <td>55.0</td>\n",
       "      <td>male</td>\n",
       "      <td>anterior torso</td>\n",
       "      <td>2.73</td>\n",
       "      <td>TBP tile: close-up</td>\n",
       "      <td>3D: white</td>\n",
       "      <td>24.725520</td>\n",
       "      <td>...</td>\n",
       "      <td>NaN</td>\n",
       "      <td>Benign</td>\n",
       "      <td>Benign</td>\n",
       "      <td>NaN</td>\n",
       "      <td>NaN</td>\n",
       "      <td>NaN</td>\n",
       "      <td>NaN</td>\n",
       "      <td>NaN</td>\n",
       "      <td>NaN</td>\n",
       "      <td>70.442510</td>\n",
       "    </tr>\n",
       "  </tbody>\n",
       "</table>\n",
       "<p>5 rows × 55 columns</p>\n",
       "</div>"
      ],
      "text/plain": [
       "        isic_id  target  patient_id  age_approx   sex anatom_site_general  \\\n",
       "0  ISIC_0015670       0  IP_1235828        60.0  male     lower extremity   \n",
       "1  ISIC_0015845       0  IP_8170065        60.0  male           head/neck   \n",
       "2  ISIC_0015864       0  IP_6724798        60.0  male     posterior torso   \n",
       "3  ISIC_0015902       0  IP_4111386        65.0  male      anterior torso   \n",
       "4  ISIC_0024200       0  IP_8313778        55.0  male      anterior torso   \n",
       "\n",
       "   clin_size_long_diam_mm          image_type tbp_tile_type   tbp_lv_A  ...  \\\n",
       "0                    3.04  TBP tile: close-up     3D: white  20.244422  ...   \n",
       "1                    1.10  TBP tile: close-up     3D: white  31.712570  ...   \n",
       "2                    3.40  TBP tile: close-up        3D: XP  22.575830  ...   \n",
       "3                    3.22  TBP tile: close-up        3D: XP  14.242329  ...   \n",
       "4                    2.73  TBP tile: close-up     3D: white  24.725520  ...   \n",
       "\n",
       "    lesion_id  iddx_full  iddx_1  iddx_2  iddx_3  iddx_4  iddx_5  \\\n",
       "0         NaN     Benign  Benign     NaN     NaN     NaN     NaN   \n",
       "1  IL_6727506     Benign  Benign     NaN     NaN     NaN     NaN   \n",
       "2         NaN     Benign  Benign     NaN     NaN     NaN     NaN   \n",
       "3         NaN     Benign  Benign     NaN     NaN     NaN     NaN   \n",
       "4         NaN     Benign  Benign     NaN     NaN     NaN     NaN   \n",
       "\n",
       "   mel_mitotic_index  mel_thick_mm  tbp_lv_dnn_lesion_confidence  \n",
       "0                NaN           NaN                     97.517282  \n",
       "1                NaN           NaN                      3.141455  \n",
       "2                NaN           NaN                     99.804040  \n",
       "3                NaN           NaN                     99.989998  \n",
       "4                NaN           NaN                     70.442510  \n",
       "\n",
       "[5 rows x 55 columns]"
      ]
     },
     "execution_count": 3,
     "metadata": {},
     "output_type": "execute_result"
    }
   ],
   "source": [
    "df.head()"
   ]
  },
  {
   "cell_type": "code",
   "execution_count": 5,
   "id": "6daa8ed7",
   "metadata": {},
   "outputs": [
    {
     "data": {
      "text/plain": [
       "(401059, 55)"
      ]
     },
     "execution_count": 5,
     "metadata": {},
     "output_type": "execute_result"
    }
   ],
   "source": [
    "df.shape"
   ]
  },
  {
   "cell_type": "markdown",
   "id": "4d93f3db",
   "metadata": {},
   "source": [
    "### DUPLICATE VALUE TREATMENT"
   ]
  },
  {
   "cell_type": "code",
   "execution_count": 6,
   "id": "dd17a33c",
   "metadata": {},
   "outputs": [
    {
     "data": {
      "text/plain": [
       "0"
      ]
     },
     "execution_count": 6,
     "metadata": {},
     "output_type": "execute_result"
    }
   ],
   "source": [
    "df.duplicated().sum()"
   ]
  },
  {
   "cell_type": "markdown",
   "id": "a7463e2c",
   "metadata": {},
   "source": [
    "### NULL VALUE TREATMENT"
   ]
  },
  {
   "cell_type": "code",
   "execution_count": 7,
   "id": "615aaa76",
   "metadata": {},
   "outputs": [
    {
     "data": {
      "text/plain": [
       "isic_id                              0\n",
       "target                               0\n",
       "patient_id                           0\n",
       "age_approx                        2798\n",
       "sex                              11517\n",
       "anatom_site_general               5756\n",
       "clin_size_long_diam_mm               0\n",
       "image_type                           0\n",
       "tbp_tile_type                        0\n",
       "tbp_lv_A                             0\n",
       "tbp_lv_Aext                          0\n",
       "tbp_lv_B                             0\n",
       "tbp_lv_Bext                          0\n",
       "tbp_lv_C                             0\n",
       "tbp_lv_Cext                          0\n",
       "tbp_lv_H                             0\n",
       "tbp_lv_Hext                          0\n",
       "tbp_lv_L                             0\n",
       "tbp_lv_Lext                          0\n",
       "tbp_lv_areaMM2                       0\n",
       "tbp_lv_area_perim_ratio              0\n",
       "tbp_lv_color_std_mean                0\n",
       "tbp_lv_deltaA                        0\n",
       "tbp_lv_deltaB                        0\n",
       "tbp_lv_deltaL                        0\n",
       "tbp_lv_deltaLB                       0\n",
       "tbp_lv_deltaLBnorm                   0\n",
       "tbp_lv_eccentricity                  0\n",
       "tbp_lv_location                      0\n",
       "tbp_lv_location_simple               0\n",
       "tbp_lv_minorAxisMM                   0\n",
       "tbp_lv_nevi_confidence               0\n",
       "tbp_lv_norm_border                   0\n",
       "tbp_lv_norm_color                    0\n",
       "tbp_lv_perimeterMM                   0\n",
       "tbp_lv_radial_color_std_max          0\n",
       "tbp_lv_stdL                          0\n",
       "tbp_lv_stdLExt                       0\n",
       "tbp_lv_symm_2axis                    0\n",
       "tbp_lv_symm_2axis_angle              0\n",
       "tbp_lv_x                             0\n",
       "tbp_lv_y                             0\n",
       "tbp_lv_z                             0\n",
       "attribution                          0\n",
       "copyright_license                    0\n",
       "lesion_id                       379001\n",
       "iddx_full                            0\n",
       "iddx_1                               0\n",
       "iddx_2                          399991\n",
       "iddx_3                          399994\n",
       "iddx_4                          400508\n",
       "iddx_5                          401058\n",
       "mel_mitotic_index               401006\n",
       "mel_thick_mm                    400996\n",
       "tbp_lv_dnn_lesion_confidence         0\n",
       "dtype: int64"
      ]
     },
     "execution_count": 7,
     "metadata": {},
     "output_type": "execute_result"
    }
   ],
   "source": [
    "df.isnull().sum()"
   ]
  },
  {
   "cell_type": "code",
   "execution_count": 8,
   "id": "880e6f11",
   "metadata": {},
   "outputs": [],
   "source": [
    "df['age_approx'].fillna(df['age_approx'].mean(), inplace=True)\n",
    "df['sex'].fillna('male', inplace=True)\n",
    "df['anatom_site_general'].fillna('posterior torso', inplace=True)"
   ]
  },
  {
   "cell_type": "code",
   "execution_count": 9,
   "id": "2046ec9c",
   "metadata": {},
   "outputs": [],
   "source": [
    "df.drop(columns=['lesion_id','iddx_2','iddx_3','iddx_4','iddx_5','mel_mitotic_index','mel_thick_mm'],inplace=True)"
   ]
  },
  {
   "cell_type": "code",
   "execution_count": 10,
   "id": "5d8988ad",
   "metadata": {},
   "outputs": [
    {
     "name": "stdout",
     "output_type": "stream",
     "text": [
      "<class 'pandas.core.frame.DataFrame'>\n",
      "RangeIndex: 401059 entries, 0 to 401058\n",
      "Data columns (total 48 columns):\n",
      " #   Column                        Non-Null Count   Dtype  \n",
      "---  ------                        --------------   -----  \n",
      " 0   isic_id                       401059 non-null  object \n",
      " 1   target                        401059 non-null  int64  \n",
      " 2   patient_id                    401059 non-null  object \n",
      " 3   age_approx                    401059 non-null  float64\n",
      " 4   sex                           401059 non-null  object \n",
      " 5   anatom_site_general           401059 non-null  object \n",
      " 6   clin_size_long_diam_mm        401059 non-null  float64\n",
      " 7   image_type                    401059 non-null  object \n",
      " 8   tbp_tile_type                 401059 non-null  object \n",
      " 9   tbp_lv_A                      401059 non-null  float64\n",
      " 10  tbp_lv_Aext                   401059 non-null  float64\n",
      " 11  tbp_lv_B                      401059 non-null  float64\n",
      " 12  tbp_lv_Bext                   401059 non-null  float64\n",
      " 13  tbp_lv_C                      401059 non-null  float64\n",
      " 14  tbp_lv_Cext                   401059 non-null  float64\n",
      " 15  tbp_lv_H                      401059 non-null  float64\n",
      " 16  tbp_lv_Hext                   401059 non-null  float64\n",
      " 17  tbp_lv_L                      401059 non-null  float64\n",
      " 18  tbp_lv_Lext                   401059 non-null  float64\n",
      " 19  tbp_lv_areaMM2                401059 non-null  float64\n",
      " 20  tbp_lv_area_perim_ratio       401059 non-null  float64\n",
      " 21  tbp_lv_color_std_mean         401059 non-null  float64\n",
      " 22  tbp_lv_deltaA                 401059 non-null  float64\n",
      " 23  tbp_lv_deltaB                 401059 non-null  float64\n",
      " 24  tbp_lv_deltaL                 401059 non-null  float64\n",
      " 25  tbp_lv_deltaLB                401059 non-null  float64\n",
      " 26  tbp_lv_deltaLBnorm            401059 non-null  float64\n",
      " 27  tbp_lv_eccentricity           401059 non-null  float64\n",
      " 28  tbp_lv_location               401059 non-null  object \n",
      " 29  tbp_lv_location_simple        401059 non-null  object \n",
      " 30  tbp_lv_minorAxisMM            401059 non-null  float64\n",
      " 31  tbp_lv_nevi_confidence        401059 non-null  float64\n",
      " 32  tbp_lv_norm_border            401059 non-null  float64\n",
      " 33  tbp_lv_norm_color             401059 non-null  float64\n",
      " 34  tbp_lv_perimeterMM            401059 non-null  float64\n",
      " 35  tbp_lv_radial_color_std_max   401059 non-null  float64\n",
      " 36  tbp_lv_stdL                   401059 non-null  float64\n",
      " 37  tbp_lv_stdLExt                401059 non-null  float64\n",
      " 38  tbp_lv_symm_2axis             401059 non-null  float64\n",
      " 39  tbp_lv_symm_2axis_angle       401059 non-null  int64  \n",
      " 40  tbp_lv_x                      401059 non-null  float64\n",
      " 41  tbp_lv_y                      401059 non-null  float64\n",
      " 42  tbp_lv_z                      401059 non-null  float64\n",
      " 43  attribution                   401059 non-null  object \n",
      " 44  copyright_license             401059 non-null  object \n",
      " 45  iddx_full                     401059 non-null  object \n",
      " 46  iddx_1                        401059 non-null  object \n",
      " 47  tbp_lv_dnn_lesion_confidence  401059 non-null  float64\n",
      "dtypes: float64(34), int64(2), object(12)\n",
      "memory usage: 146.9+ MB\n"
     ]
    }
   ],
   "source": [
    "df.info()"
   ]
  },
  {
   "cell_type": "code",
   "execution_count": 11,
   "id": "00dcad35",
   "metadata": {},
   "outputs": [
    {
     "data": {
      "text/html": [
       "<div>\n",
       "<style scoped>\n",
       "    .dataframe tbody tr th:only-of-type {\n",
       "        vertical-align: middle;\n",
       "    }\n",
       "\n",
       "    .dataframe tbody tr th {\n",
       "        vertical-align: top;\n",
       "    }\n",
       "\n",
       "    .dataframe thead th {\n",
       "        text-align: right;\n",
       "    }\n",
       "</style>\n",
       "<table border=\"1\" class=\"dataframe\">\n",
       "  <thead>\n",
       "    <tr style=\"text-align: right;\">\n",
       "      <th></th>\n",
       "      <th>count</th>\n",
       "      <th>mean</th>\n",
       "      <th>std</th>\n",
       "      <th>min</th>\n",
       "      <th>25%</th>\n",
       "      <th>50%</th>\n",
       "      <th>75%</th>\n",
       "      <th>max</th>\n",
       "    </tr>\n",
       "  </thead>\n",
       "  <tbody>\n",
       "    <tr>\n",
       "      <th>target</th>\n",
       "      <td>401059.0</td>\n",
       "      <td>0.0</td>\n",
       "      <td>0.0</td>\n",
       "      <td>0.0</td>\n",
       "      <td>0.0</td>\n",
       "      <td>0.0</td>\n",
       "      <td>0.0</td>\n",
       "      <td>1.0</td>\n",
       "    </tr>\n",
       "    <tr>\n",
       "      <th>age_approx</th>\n",
       "      <td>401059.0</td>\n",
       "      <td>58.0</td>\n",
       "      <td>14.0</td>\n",
       "      <td>5.0</td>\n",
       "      <td>50.0</td>\n",
       "      <td>60.0</td>\n",
       "      <td>70.0</td>\n",
       "      <td>85.0</td>\n",
       "    </tr>\n",
       "    <tr>\n",
       "      <th>clin_size_long_diam_mm</th>\n",
       "      <td>401059.0</td>\n",
       "      <td>4.0</td>\n",
       "      <td>2.0</td>\n",
       "      <td>1.0</td>\n",
       "      <td>3.0</td>\n",
       "      <td>3.0</td>\n",
       "      <td>4.0</td>\n",
       "      <td>28.0</td>\n",
       "    </tr>\n",
       "    <tr>\n",
       "      <th>tbp_lv_A</th>\n",
       "      <td>401059.0</td>\n",
       "      <td>20.0</td>\n",
       "      <td>4.0</td>\n",
       "      <td>-2.0</td>\n",
       "      <td>17.0</td>\n",
       "      <td>20.0</td>\n",
       "      <td>22.0</td>\n",
       "      <td>48.0</td>\n",
       "    </tr>\n",
       "    <tr>\n",
       "      <th>tbp_lv_Aext</th>\n",
       "      <td>401059.0</td>\n",
       "      <td>15.0</td>\n",
       "      <td>4.0</td>\n",
       "      <td>-9.0</td>\n",
       "      <td>12.0</td>\n",
       "      <td>15.0</td>\n",
       "      <td>17.0</td>\n",
       "      <td>37.0</td>\n",
       "    </tr>\n",
       "    <tr>\n",
       "      <th>tbp_lv_B</th>\n",
       "      <td>401059.0</td>\n",
       "      <td>28.0</td>\n",
       "      <td>5.0</td>\n",
       "      <td>-1.0</td>\n",
       "      <td>25.0</td>\n",
       "      <td>28.0</td>\n",
       "      <td>32.0</td>\n",
       "      <td>54.0</td>\n",
       "    </tr>\n",
       "    <tr>\n",
       "      <th>tbp_lv_Bext</th>\n",
       "      <td>401059.0</td>\n",
       "      <td>27.0</td>\n",
       "      <td>4.0</td>\n",
       "      <td>9.0</td>\n",
       "      <td>24.0</td>\n",
       "      <td>27.0</td>\n",
       "      <td>30.0</td>\n",
       "      <td>48.0</td>\n",
       "    </tr>\n",
       "    <tr>\n",
       "      <th>tbp_lv_C</th>\n",
       "      <td>401059.0</td>\n",
       "      <td>35.0</td>\n",
       "      <td>6.0</td>\n",
       "      <td>3.0</td>\n",
       "      <td>31.0</td>\n",
       "      <td>35.0</td>\n",
       "      <td>38.0</td>\n",
       "      <td>59.0</td>\n",
       "    </tr>\n",
       "    <tr>\n",
       "      <th>tbp_lv_Cext</th>\n",
       "      <td>401059.0</td>\n",
       "      <td>31.0</td>\n",
       "      <td>5.0</td>\n",
       "      <td>12.0</td>\n",
       "      <td>28.0</td>\n",
       "      <td>31.0</td>\n",
       "      <td>34.0</td>\n",
       "      <td>54.0</td>\n",
       "    </tr>\n",
       "    <tr>\n",
       "      <th>tbp_lv_H</th>\n",
       "      <td>401059.0</td>\n",
       "      <td>55.0</td>\n",
       "      <td>6.0</td>\n",
       "      <td>-2.0</td>\n",
       "      <td>52.0</td>\n",
       "      <td>55.0</td>\n",
       "      <td>58.0</td>\n",
       "      <td>106.0</td>\n",
       "    </tr>\n",
       "    <tr>\n",
       "      <th>tbp_lv_Hext</th>\n",
       "      <td>401059.0</td>\n",
       "      <td>61.0</td>\n",
       "      <td>6.0</td>\n",
       "      <td>28.0</td>\n",
       "      <td>57.0</td>\n",
       "      <td>61.0</td>\n",
       "      <td>65.0</td>\n",
       "      <td>131.0</td>\n",
       "    </tr>\n",
       "    <tr>\n",
       "      <th>tbp_lv_L</th>\n",
       "      <td>401059.0</td>\n",
       "      <td>42.0</td>\n",
       "      <td>11.0</td>\n",
       "      <td>4.0</td>\n",
       "      <td>34.0</td>\n",
       "      <td>42.0</td>\n",
       "      <td>50.0</td>\n",
       "      <td>88.0</td>\n",
       "    </tr>\n",
       "    <tr>\n",
       "      <th>tbp_lv_Lext</th>\n",
       "      <td>401059.0</td>\n",
       "      <td>51.0</td>\n",
       "      <td>12.0</td>\n",
       "      <td>18.0</td>\n",
       "      <td>42.0</td>\n",
       "      <td>51.0</td>\n",
       "      <td>60.0</td>\n",
       "      <td>99.0</td>\n",
       "    </tr>\n",
       "    <tr>\n",
       "      <th>tbp_lv_areaMM2</th>\n",
       "      <td>401059.0</td>\n",
       "      <td>9.0</td>\n",
       "      <td>10.0</td>\n",
       "      <td>0.0</td>\n",
       "      <td>4.0</td>\n",
       "      <td>6.0</td>\n",
       "      <td>9.0</td>\n",
       "      <td>334.0</td>\n",
       "    </tr>\n",
       "    <tr>\n",
       "      <th>tbp_lv_area_perim_ratio</th>\n",
       "      <td>401059.0</td>\n",
       "      <td>19.0</td>\n",
       "      <td>5.0</td>\n",
       "      <td>11.0</td>\n",
       "      <td>15.0</td>\n",
       "      <td>17.0</td>\n",
       "      <td>21.0</td>\n",
       "      <td>87.0</td>\n",
       "    </tr>\n",
       "    <tr>\n",
       "      <th>tbp_lv_color_std_mean</th>\n",
       "      <td>401059.0</td>\n",
       "      <td>1.0</td>\n",
       "      <td>1.0</td>\n",
       "      <td>0.0</td>\n",
       "      <td>1.0</td>\n",
       "      <td>1.0</td>\n",
       "      <td>1.0</td>\n",
       "      <td>10.0</td>\n",
       "    </tr>\n",
       "    <tr>\n",
       "      <th>tbp_lv_deltaA</th>\n",
       "      <td>401059.0</td>\n",
       "      <td>5.0</td>\n",
       "      <td>3.0</td>\n",
       "      <td>-14.0</td>\n",
       "      <td>3.0</td>\n",
       "      <td>5.0</td>\n",
       "      <td>6.0</td>\n",
       "      <td>32.0</td>\n",
       "    </tr>\n",
       "    <tr>\n",
       "      <th>tbp_lv_deltaB</th>\n",
       "      <td>401059.0</td>\n",
       "      <td>1.0</td>\n",
       "      <td>2.0</td>\n",
       "      <td>-18.0</td>\n",
       "      <td>0.0</td>\n",
       "      <td>2.0</td>\n",
       "      <td>3.0</td>\n",
       "      <td>13.0</td>\n",
       "    </tr>\n",
       "    <tr>\n",
       "      <th>tbp_lv_deltaL</th>\n",
       "      <td>401059.0</td>\n",
       "      <td>-9.0</td>\n",
       "      <td>3.0</td>\n",
       "      <td>-39.0</td>\n",
       "      <td>-11.0</td>\n",
       "      <td>-8.0</td>\n",
       "      <td>-6.0</td>\n",
       "      <td>-2.0</td>\n",
       "    </tr>\n",
       "    <tr>\n",
       "      <th>tbp_lv_deltaLB</th>\n",
       "      <td>401059.0</td>\n",
       "      <td>9.0</td>\n",
       "      <td>3.0</td>\n",
       "      <td>3.0</td>\n",
       "      <td>7.0</td>\n",
       "      <td>9.0</td>\n",
       "      <td>11.0</td>\n",
       "      <td>39.0</td>\n",
       "    </tr>\n",
       "    <tr>\n",
       "      <th>tbp_lv_deltaLBnorm</th>\n",
       "      <td>401059.0</td>\n",
       "      <td>8.0</td>\n",
       "      <td>2.0</td>\n",
       "      <td>3.0</td>\n",
       "      <td>6.0</td>\n",
       "      <td>7.0</td>\n",
       "      <td>9.0</td>\n",
       "      <td>30.0</td>\n",
       "    </tr>\n",
       "    <tr>\n",
       "      <th>tbp_lv_eccentricity</th>\n",
       "      <td>401059.0</td>\n",
       "      <td>1.0</td>\n",
       "      <td>0.0</td>\n",
       "      <td>0.0</td>\n",
       "      <td>1.0</td>\n",
       "      <td>1.0</td>\n",
       "      <td>1.0</td>\n",
       "      <td>1.0</td>\n",
       "    </tr>\n",
       "    <tr>\n",
       "      <th>tbp_lv_minorAxisMM</th>\n",
       "      <td>401059.0</td>\n",
       "      <td>3.0</td>\n",
       "      <td>1.0</td>\n",
       "      <td>0.0</td>\n",
       "      <td>2.0</td>\n",
       "      <td>2.0</td>\n",
       "      <td>3.0</td>\n",
       "      <td>18.0</td>\n",
       "    </tr>\n",
       "    <tr>\n",
       "      <th>tbp_lv_nevi_confidence</th>\n",
       "      <td>401059.0</td>\n",
       "      <td>39.0</td>\n",
       "      <td>41.0</td>\n",
       "      <td>0.0</td>\n",
       "      <td>0.0</td>\n",
       "      <td>14.0</td>\n",
       "      <td>88.0</td>\n",
       "      <td>100.0</td>\n",
       "    </tr>\n",
       "    <tr>\n",
       "      <th>tbp_lv_norm_border</th>\n",
       "      <td>401059.0</td>\n",
       "      <td>3.0</td>\n",
       "      <td>2.0</td>\n",
       "      <td>1.0</td>\n",
       "      <td>2.0</td>\n",
       "      <td>3.0</td>\n",
       "      <td>4.0</td>\n",
       "      <td>10.0</td>\n",
       "    </tr>\n",
       "    <tr>\n",
       "      <th>tbp_lv_norm_color</th>\n",
       "      <td>401059.0</td>\n",
       "      <td>3.0</td>\n",
       "      <td>2.0</td>\n",
       "      <td>0.0</td>\n",
       "      <td>2.0</td>\n",
       "      <td>3.0</td>\n",
       "      <td>4.0</td>\n",
       "      <td>10.0</td>\n",
       "    </tr>\n",
       "    <tr>\n",
       "      <th>tbp_lv_perimeterMM</th>\n",
       "      <td>401059.0</td>\n",
       "      <td>12.0</td>\n",
       "      <td>6.0</td>\n",
       "      <td>3.0</td>\n",
       "      <td>8.0</td>\n",
       "      <td>10.0</td>\n",
       "      <td>13.0</td>\n",
       "      <td>102.0</td>\n",
       "    </tr>\n",
       "    <tr>\n",
       "      <th>tbp_lv_radial_color_std_max</th>\n",
       "      <td>401059.0</td>\n",
       "      <td>1.0</td>\n",
       "      <td>1.0</td>\n",
       "      <td>0.0</td>\n",
       "      <td>1.0</td>\n",
       "      <td>1.0</td>\n",
       "      <td>1.0</td>\n",
       "      <td>11.0</td>\n",
       "    </tr>\n",
       "    <tr>\n",
       "      <th>tbp_lv_stdL</th>\n",
       "      <td>401059.0</td>\n",
       "      <td>3.0</td>\n",
       "      <td>2.0</td>\n",
       "      <td>0.0</td>\n",
       "      <td>1.0</td>\n",
       "      <td>2.0</td>\n",
       "      <td>3.0</td>\n",
       "      <td>18.0</td>\n",
       "    </tr>\n",
       "    <tr>\n",
       "      <th>tbp_lv_stdLExt</th>\n",
       "      <td>401059.0</td>\n",
       "      <td>2.0</td>\n",
       "      <td>1.0</td>\n",
       "      <td>1.0</td>\n",
       "      <td>2.0</td>\n",
       "      <td>2.0</td>\n",
       "      <td>3.0</td>\n",
       "      <td>26.0</td>\n",
       "    </tr>\n",
       "    <tr>\n",
       "      <th>tbp_lv_symm_2axis</th>\n",
       "      <td>401059.0</td>\n",
       "      <td>0.0</td>\n",
       "      <td>0.0</td>\n",
       "      <td>0.0</td>\n",
       "      <td>0.0</td>\n",
       "      <td>0.0</td>\n",
       "      <td>0.0</td>\n",
       "      <td>1.0</td>\n",
       "    </tr>\n",
       "    <tr>\n",
       "      <th>tbp_lv_symm_2axis_angle</th>\n",
       "      <td>401059.0</td>\n",
       "      <td>86.0</td>\n",
       "      <td>53.0</td>\n",
       "      <td>0.0</td>\n",
       "      <td>40.0</td>\n",
       "      <td>90.0</td>\n",
       "      <td>130.0</td>\n",
       "      <td>175.0</td>\n",
       "    </tr>\n",
       "    <tr>\n",
       "      <th>tbp_lv_x</th>\n",
       "      <td>401059.0</td>\n",
       "      <td>-3.0</td>\n",
       "      <td>197.0</td>\n",
       "      <td>-625.0</td>\n",
       "      <td>-147.0</td>\n",
       "      <td>-6.0</td>\n",
       "      <td>140.0</td>\n",
       "      <td>614.0</td>\n",
       "    </tr>\n",
       "    <tr>\n",
       "      <th>tbp_lv_y</th>\n",
       "      <td>401059.0</td>\n",
       "      <td>1040.0</td>\n",
       "      <td>410.0</td>\n",
       "      <td>-1052.0</td>\n",
       "      <td>747.0</td>\n",
       "      <td>1173.0</td>\n",
       "      <td>1342.0</td>\n",
       "      <td>1888.0</td>\n",
       "    </tr>\n",
       "    <tr>\n",
       "      <th>tbp_lv_z</th>\n",
       "      <td>401059.0</td>\n",
       "      <td>56.0</td>\n",
       "      <td>88.0</td>\n",
       "      <td>-292.0</td>\n",
       "      <td>-9.0</td>\n",
       "      <td>68.0</td>\n",
       "      <td>127.0</td>\n",
       "      <td>319.0</td>\n",
       "    </tr>\n",
       "    <tr>\n",
       "      <th>tbp_lv_dnn_lesion_confidence</th>\n",
       "      <td>401059.0</td>\n",
       "      <td>97.0</td>\n",
       "      <td>9.0</td>\n",
       "      <td>0.0</td>\n",
       "      <td>100.0</td>\n",
       "      <td>100.0</td>\n",
       "      <td>100.0</td>\n",
       "      <td>100.0</td>\n",
       "    </tr>\n",
       "  </tbody>\n",
       "</table>\n",
       "</div>"
      ],
      "text/plain": [
       "                                 count    mean    std     min    25%     50%  \\\n",
       "target                        401059.0     0.0    0.0     0.0    0.0     0.0   \n",
       "age_approx                    401059.0    58.0   14.0     5.0   50.0    60.0   \n",
       "clin_size_long_diam_mm        401059.0     4.0    2.0     1.0    3.0     3.0   \n",
       "tbp_lv_A                      401059.0    20.0    4.0    -2.0   17.0    20.0   \n",
       "tbp_lv_Aext                   401059.0    15.0    4.0    -9.0   12.0    15.0   \n",
       "tbp_lv_B                      401059.0    28.0    5.0    -1.0   25.0    28.0   \n",
       "tbp_lv_Bext                   401059.0    27.0    4.0     9.0   24.0    27.0   \n",
       "tbp_lv_C                      401059.0    35.0    6.0     3.0   31.0    35.0   \n",
       "tbp_lv_Cext                   401059.0    31.0    5.0    12.0   28.0    31.0   \n",
       "tbp_lv_H                      401059.0    55.0    6.0    -2.0   52.0    55.0   \n",
       "tbp_lv_Hext                   401059.0    61.0    6.0    28.0   57.0    61.0   \n",
       "tbp_lv_L                      401059.0    42.0   11.0     4.0   34.0    42.0   \n",
       "tbp_lv_Lext                   401059.0    51.0   12.0    18.0   42.0    51.0   \n",
       "tbp_lv_areaMM2                401059.0     9.0   10.0     0.0    4.0     6.0   \n",
       "tbp_lv_area_perim_ratio       401059.0    19.0    5.0    11.0   15.0    17.0   \n",
       "tbp_lv_color_std_mean         401059.0     1.0    1.0     0.0    1.0     1.0   \n",
       "tbp_lv_deltaA                 401059.0     5.0    3.0   -14.0    3.0     5.0   \n",
       "tbp_lv_deltaB                 401059.0     1.0    2.0   -18.0    0.0     2.0   \n",
       "tbp_lv_deltaL                 401059.0    -9.0    3.0   -39.0  -11.0    -8.0   \n",
       "tbp_lv_deltaLB                401059.0     9.0    3.0     3.0    7.0     9.0   \n",
       "tbp_lv_deltaLBnorm            401059.0     8.0    2.0     3.0    6.0     7.0   \n",
       "tbp_lv_eccentricity           401059.0     1.0    0.0     0.0    1.0     1.0   \n",
       "tbp_lv_minorAxisMM            401059.0     3.0    1.0     0.0    2.0     2.0   \n",
       "tbp_lv_nevi_confidence        401059.0    39.0   41.0     0.0    0.0    14.0   \n",
       "tbp_lv_norm_border            401059.0     3.0    2.0     1.0    2.0     3.0   \n",
       "tbp_lv_norm_color             401059.0     3.0    2.0     0.0    2.0     3.0   \n",
       "tbp_lv_perimeterMM            401059.0    12.0    6.0     3.0    8.0    10.0   \n",
       "tbp_lv_radial_color_std_max   401059.0     1.0    1.0     0.0    1.0     1.0   \n",
       "tbp_lv_stdL                   401059.0     3.0    2.0     0.0    1.0     2.0   \n",
       "tbp_lv_stdLExt                401059.0     2.0    1.0     1.0    2.0     2.0   \n",
       "tbp_lv_symm_2axis             401059.0     0.0    0.0     0.0    0.0     0.0   \n",
       "tbp_lv_symm_2axis_angle       401059.0    86.0   53.0     0.0   40.0    90.0   \n",
       "tbp_lv_x                      401059.0    -3.0  197.0  -625.0 -147.0    -6.0   \n",
       "tbp_lv_y                      401059.0  1040.0  410.0 -1052.0  747.0  1173.0   \n",
       "tbp_lv_z                      401059.0    56.0   88.0  -292.0   -9.0    68.0   \n",
       "tbp_lv_dnn_lesion_confidence  401059.0    97.0    9.0     0.0  100.0   100.0   \n",
       "\n",
       "                                 75%     max  \n",
       "target                           0.0     1.0  \n",
       "age_approx                      70.0    85.0  \n",
       "clin_size_long_diam_mm           4.0    28.0  \n",
       "tbp_lv_A                        22.0    48.0  \n",
       "tbp_lv_Aext                     17.0    37.0  \n",
       "tbp_lv_B                        32.0    54.0  \n",
       "tbp_lv_Bext                     30.0    48.0  \n",
       "tbp_lv_C                        38.0    59.0  \n",
       "tbp_lv_Cext                     34.0    54.0  \n",
       "tbp_lv_H                        58.0   106.0  \n",
       "tbp_lv_Hext                     65.0   131.0  \n",
       "tbp_lv_L                        50.0    88.0  \n",
       "tbp_lv_Lext                     60.0    99.0  \n",
       "tbp_lv_areaMM2                   9.0   334.0  \n",
       "tbp_lv_area_perim_ratio         21.0    87.0  \n",
       "tbp_lv_color_std_mean            1.0    10.0  \n",
       "tbp_lv_deltaA                    6.0    32.0  \n",
       "tbp_lv_deltaB                    3.0    13.0  \n",
       "tbp_lv_deltaL                   -6.0    -2.0  \n",
       "tbp_lv_deltaLB                  11.0    39.0  \n",
       "tbp_lv_deltaLBnorm               9.0    30.0  \n",
       "tbp_lv_eccentricity              1.0     1.0  \n",
       "tbp_lv_minorAxisMM               3.0    18.0  \n",
       "tbp_lv_nevi_confidence          88.0   100.0  \n",
       "tbp_lv_norm_border               4.0    10.0  \n",
       "tbp_lv_norm_color                4.0    10.0  \n",
       "tbp_lv_perimeterMM              13.0   102.0  \n",
       "tbp_lv_radial_color_std_max      1.0    11.0  \n",
       "tbp_lv_stdL                      3.0    18.0  \n",
       "tbp_lv_stdLExt                   3.0    26.0  \n",
       "tbp_lv_symm_2axis                0.0     1.0  \n",
       "tbp_lv_symm_2axis_angle        130.0   175.0  \n",
       "tbp_lv_x                       140.0   614.0  \n",
       "tbp_lv_y                      1342.0  1888.0  \n",
       "tbp_lv_z                       127.0   319.0  \n",
       "tbp_lv_dnn_lesion_confidence   100.0   100.0  "
      ]
     },
     "execution_count": 11,
     "metadata": {},
     "output_type": "execute_result"
    }
   ],
   "source": [
    "df.describe().T.round(0)"
   ]
  },
  {
   "cell_type": "markdown",
   "id": "3f276572",
   "metadata": {},
   "source": [
    "### SEGREGATING OBJECT VALUUES & NUMERICAL VALUES COLUMNS"
   ]
  },
  {
   "cell_type": "code",
   "execution_count": 12,
   "id": "8a8d536b",
   "metadata": {},
   "outputs": [
    {
     "name": "stdout",
     "output_type": "stream",
     "text": [
      "df1:\n",
      "             isic_id  patient_id     sex anatom_site_general  \\\n",
      "0       ISIC_0015670  IP_1235828    male     lower extremity   \n",
      "1       ISIC_0015845  IP_8170065    male           head/neck   \n",
      "2       ISIC_0015864  IP_6724798    male     posterior torso   \n",
      "3       ISIC_0015902  IP_4111386    male      anterior torso   \n",
      "4       ISIC_0024200  IP_8313778    male      anterior torso   \n",
      "...              ...         ...     ...                 ...   \n",
      "401054  ISIC_9999937  IP_1140263    male      anterior torso   \n",
      "401055  ISIC_9999951  IP_5678181    male     posterior torso   \n",
      "401056  ISIC_9999960  IP_0076153  female      anterior torso   \n",
      "401057  ISIC_9999964  IP_5231513  female      anterior torso   \n",
      "401058  ISIC_9999967  IP_6426047    male     lower extremity   \n",
      "\n",
      "                image_type tbp_tile_type          tbp_lv_location  \\\n",
      "0       TBP tile: close-up     3D: white        Right Leg - Upper   \n",
      "1       TBP tile: close-up     3D: white              Head & Neck   \n",
      "2       TBP tile: close-up        3D: XP     Torso Back Top Third   \n",
      "3       TBP tile: close-up        3D: XP     Torso Front Top Half   \n",
      "4       TBP tile: close-up     3D: white     Torso Front Top Half   \n",
      "...                    ...           ...                      ...   \n",
      "401054  TBP tile: close-up        3D: XP     Torso Front Top Half   \n",
      "401055  TBP tile: close-up     3D: white     Torso Back Top Third   \n",
      "401056  TBP tile: close-up        3D: XP     Torso Front Top Half   \n",
      "401057  TBP tile: close-up        3D: XP  Torso Front Bottom Half   \n",
      "401058  TBP tile: close-up        3D: XP         Left Leg - Lower   \n",
      "\n",
      "       tbp_lv_location_simple  \\\n",
      "0                   Right Leg   \n",
      "1                 Head & Neck   \n",
      "2                  Torso Back   \n",
      "3                 Torso Front   \n",
      "4                 Torso Front   \n",
      "...                       ...   \n",
      "401054            Torso Front   \n",
      "401055             Torso Back   \n",
      "401056            Torso Front   \n",
      "401057            Torso Front   \n",
      "401058               Left Leg   \n",
      "\n",
      "                                              attribution copyright_license  \\\n",
      "0                  Memorial Sloan Kettering Cancer Center             CC-BY   \n",
      "1                  Memorial Sloan Kettering Cancer Center             CC-BY   \n",
      "2                  Memorial Sloan Kettering Cancer Center             CC-BY   \n",
      "3                                              ACEMID MIA              CC-0   \n",
      "4                  Memorial Sloan Kettering Cancer Center             CC-BY   \n",
      "...                                                   ...               ...   \n",
      "401054  Department of Dermatology, Hospital Clínic de ...          CC-BY-NC   \n",
      "401055             Memorial Sloan Kettering Cancer Center             CC-BY   \n",
      "401056  Frazer Institute, The University of Queensland...             CC-BY   \n",
      "401057                       University Hospital of Basel          CC-BY-NC   \n",
      "401058  Department of Dermatology, University of Athen...             CC-BY   \n",
      "\n",
      "       iddx_full  iddx_1  \n",
      "0         Benign  Benign  \n",
      "1         Benign  Benign  \n",
      "2         Benign  Benign  \n",
      "3         Benign  Benign  \n",
      "4         Benign  Benign  \n",
      "...          ...     ...  \n",
      "401054    Benign  Benign  \n",
      "401055    Benign  Benign  \n",
      "401056    Benign  Benign  \n",
      "401057    Benign  Benign  \n",
      "401058    Benign  Benign  \n",
      "\n",
      "[401059 rows x 12 columns]\n",
      "\n",
      "df:\n",
      "        target  age_approx  clin_size_long_diam_mm   tbp_lv_A  tbp_lv_Aext  \\\n",
      "0            0        60.0                    3.04  20.244422    16.261975   \n",
      "1            0        60.0                    1.10  31.712570    25.364740   \n",
      "2            0        60.0                    3.40  22.575830    17.128170   \n",
      "3            0        65.0                    3.22  14.242329    12.164757   \n",
      "4            0        55.0                    2.73  24.725520    20.057470   \n",
      "...        ...         ...                     ...        ...          ...   \n",
      "401054       0        70.0                    6.80  22.574335    14.944666   \n",
      "401055       0        60.0                    3.11  19.977640    16.026870   \n",
      "401056       0        65.0                    2.05  17.332567    12.364397   \n",
      "401057       0        30.0                    2.80  22.288570     9.564721   \n",
      "401058       0        50.0                    3.30  16.792900    11.434730   \n",
      "\n",
      "         tbp_lv_B  tbp_lv_Bext   tbp_lv_C  tbp_lv_Cext   tbp_lv_H  ...  \\\n",
      "0       26.922447    23.954773  33.684638    28.953117  53.058545  ...   \n",
      "1       26.331000    24.549290  41.219030    35.299260  39.702910  ...   \n",
      "2       37.970460    33.485410  44.174920    37.611800  59.265850  ...   \n",
      "3       21.448144    21.121356  25.746200    24.374023  56.414429  ...   \n",
      "4       26.464900    25.710460  36.217980    32.608740  46.946070  ...   \n",
      "...           ...          ...        ...          ...        ...  ...   \n",
      "401054  27.663259    26.767135  35.705132    30.656525  50.784168  ...   \n",
      "401055  34.158840    31.011870  39.571870    34.908400  59.678970  ...   \n",
      "401056  29.845326    26.500073  34.513206    29.242644  59.854275  ...   \n",
      "401057  28.431200    27.012250  36.126360    28.655640  51.905420  ...   \n",
      "401058  21.457220    21.214910  27.247270    24.100320  51.952470  ...   \n",
      "\n",
      "        tbp_lv_perimeterMM  tbp_lv_radial_color_std_max  tbp_lv_stdL  \\\n",
      "0                 9.307003                     0.000000     2.036195   \n",
      "1                 3.354148                     0.000000     0.853227   \n",
      "2                 8.886309                     0.000000     1.743651   \n",
      "3                 9.514499                     0.664690     1.258541   \n",
      "4                 6.467562                     0.000000     2.085409   \n",
      "...                    ...                          ...          ...   \n",
      "401054           20.210836                     2.328066     7.054819   \n",
      "401055            9.340242                     1.048147     1.879502   \n",
      "401056            5.999862                     0.607554     1.702824   \n",
      "401057            9.113276                     1.078204     3.680175   \n",
      "401058           10.128920                     1.088073     3.068755   \n",
      "\n",
      "        tbp_lv_stdLExt  tbp_lv_symm_2axis  tbp_lv_symm_2axis_angle  \\\n",
      "0             2.637780           0.590476                       85   \n",
      "1             3.912844           0.285714                       55   \n",
      "2             1.950777           0.361905                      105   \n",
      "3             1.573733           0.209581                      130   \n",
      "4             2.480509           0.313433                       20   \n",
      "...                ...                ...                      ...   \n",
      "401054        2.169398           0.288920                      100   \n",
      "401055        2.910780           0.460000                       25   \n",
      "401056        2.205272           0.183099                       40   \n",
      "401057        1.957157           0.161850                      140   \n",
      "401058        3.199104           0.197917                       45   \n",
      "\n",
      "          tbp_lv_x     tbp_lv_y    tbp_lv_z  tbp_lv_dnn_lesion_confidence  \n",
      "0      -182.703552   613.493652  -42.427948                     97.517282  \n",
      "1        -0.078308  1575.687000   57.174500                      3.141455  \n",
      "2       123.649700  1472.010000  232.908900                     99.804040  \n",
      "3      -141.024780  1442.185791   58.359802                     99.989998  \n",
      "4       -72.315640  1488.720000   21.428960                     70.442510  \n",
      "...            ...          ...         ...                           ...  \n",
      "401054  147.187256  1182.317505  122.652588                     99.999988  \n",
      "401055   52.349740  1393.187000  127.261700                     99.999820  \n",
      "401056   54.622246  1065.263672 -106.833740                     99.999416  \n",
      "401057   -9.861557   877.527000  -76.982120                    100.000000  \n",
      "401058 -258.872300   148.606200  107.710600                     99.999960  \n",
      "\n",
      "[401059 rows x 36 columns]\n"
     ]
    }
   ],
   "source": [
    "# Select object data type columns\n",
    "df1 = df.select_dtypes(include=['object'])\n",
    "\n",
    "# Select non-object data type columns\n",
    "df = df.select_dtypes(exclude=['object'])\n",
    "\n",
    "print(\"df1:\")\n",
    "print(df1)\n",
    "print(\"\\ndf:\")\n",
    "print(df)"
   ]
  },
  {
   "cell_type": "code",
   "execution_count": 13,
   "id": "5792a9c2",
   "metadata": {},
   "outputs": [
    {
     "name": "stdout",
     "output_type": "stream",
     "text": [
      "<class 'pandas.core.frame.DataFrame'>\n",
      "RangeIndex: 401059 entries, 0 to 401058\n",
      "Data columns (total 36 columns):\n",
      " #   Column                        Non-Null Count   Dtype  \n",
      "---  ------                        --------------   -----  \n",
      " 0   target                        401059 non-null  int64  \n",
      " 1   age_approx                    401059 non-null  float64\n",
      " 2   clin_size_long_diam_mm        401059 non-null  float64\n",
      " 3   tbp_lv_A                      401059 non-null  float64\n",
      " 4   tbp_lv_Aext                   401059 non-null  float64\n",
      " 5   tbp_lv_B                      401059 non-null  float64\n",
      " 6   tbp_lv_Bext                   401059 non-null  float64\n",
      " 7   tbp_lv_C                      401059 non-null  float64\n",
      " 8   tbp_lv_Cext                   401059 non-null  float64\n",
      " 9   tbp_lv_H                      401059 non-null  float64\n",
      " 10  tbp_lv_Hext                   401059 non-null  float64\n",
      " 11  tbp_lv_L                      401059 non-null  float64\n",
      " 12  tbp_lv_Lext                   401059 non-null  float64\n",
      " 13  tbp_lv_areaMM2                401059 non-null  float64\n",
      " 14  tbp_lv_area_perim_ratio       401059 non-null  float64\n",
      " 15  tbp_lv_color_std_mean         401059 non-null  float64\n",
      " 16  tbp_lv_deltaA                 401059 non-null  float64\n",
      " 17  tbp_lv_deltaB                 401059 non-null  float64\n",
      " 18  tbp_lv_deltaL                 401059 non-null  float64\n",
      " 19  tbp_lv_deltaLB                401059 non-null  float64\n",
      " 20  tbp_lv_deltaLBnorm            401059 non-null  float64\n",
      " 21  tbp_lv_eccentricity           401059 non-null  float64\n",
      " 22  tbp_lv_minorAxisMM            401059 non-null  float64\n",
      " 23  tbp_lv_nevi_confidence        401059 non-null  float64\n",
      " 24  tbp_lv_norm_border            401059 non-null  float64\n",
      " 25  tbp_lv_norm_color             401059 non-null  float64\n",
      " 26  tbp_lv_perimeterMM            401059 non-null  float64\n",
      " 27  tbp_lv_radial_color_std_max   401059 non-null  float64\n",
      " 28  tbp_lv_stdL                   401059 non-null  float64\n",
      " 29  tbp_lv_stdLExt                401059 non-null  float64\n",
      " 30  tbp_lv_symm_2axis             401059 non-null  float64\n",
      " 31  tbp_lv_symm_2axis_angle       401059 non-null  int64  \n",
      " 32  tbp_lv_x                      401059 non-null  float64\n",
      " 33  tbp_lv_y                      401059 non-null  float64\n",
      " 34  tbp_lv_z                      401059 non-null  float64\n",
      " 35  tbp_lv_dnn_lesion_confidence  401059 non-null  float64\n",
      "dtypes: float64(34), int64(2)\n",
      "memory usage: 110.2 MB\n"
     ]
    }
   ],
   "source": [
    "df.info()"
   ]
  },
  {
   "cell_type": "markdown",
   "id": "ffc19afe",
   "metadata": {},
   "source": [
    "### SAMPLING"
   ]
  },
  {
   "cell_type": "code",
   "execution_count": 14,
   "id": "b3bf1b43",
   "metadata": {},
   "outputs": [
    {
     "data": {
      "text/html": [
       "<div>\n",
       "<style scoped>\n",
       "    .dataframe tbody tr th:only-of-type {\n",
       "        vertical-align: middle;\n",
       "    }\n",
       "\n",
       "    .dataframe tbody tr th {\n",
       "        vertical-align: top;\n",
       "    }\n",
       "\n",
       "    .dataframe thead th {\n",
       "        text-align: right;\n",
       "    }\n",
       "</style>\n",
       "<table border=\"1\" class=\"dataframe\">\n",
       "  <thead>\n",
       "    <tr style=\"text-align: right;\">\n",
       "      <th></th>\n",
       "      <th>age_approx</th>\n",
       "      <th>clin_size_long_diam_mm</th>\n",
       "      <th>tbp_lv_A</th>\n",
       "      <th>tbp_lv_Aext</th>\n",
       "      <th>tbp_lv_B</th>\n",
       "      <th>tbp_lv_Bext</th>\n",
       "      <th>tbp_lv_C</th>\n",
       "      <th>tbp_lv_Cext</th>\n",
       "      <th>tbp_lv_H</th>\n",
       "      <th>tbp_lv_Hext</th>\n",
       "      <th>...</th>\n",
       "      <th>tbp_lv_perimeterMM</th>\n",
       "      <th>tbp_lv_radial_color_std_max</th>\n",
       "      <th>tbp_lv_stdL</th>\n",
       "      <th>tbp_lv_stdLExt</th>\n",
       "      <th>tbp_lv_symm_2axis</th>\n",
       "      <th>tbp_lv_symm_2axis_angle</th>\n",
       "      <th>tbp_lv_x</th>\n",
       "      <th>tbp_lv_y</th>\n",
       "      <th>tbp_lv_z</th>\n",
       "      <th>tbp_lv_dnn_lesion_confidence</th>\n",
       "    </tr>\n",
       "  </thead>\n",
       "  <tbody>\n",
       "    <tr>\n",
       "      <th>0</th>\n",
       "      <td>60.0</td>\n",
       "      <td>3.04</td>\n",
       "      <td>20.244422</td>\n",
       "      <td>16.261975</td>\n",
       "      <td>26.922447</td>\n",
       "      <td>23.954773</td>\n",
       "      <td>33.684638</td>\n",
       "      <td>28.953117</td>\n",
       "      <td>53.058545</td>\n",
       "      <td>55.828924</td>\n",
       "      <td>...</td>\n",
       "      <td>9.307003</td>\n",
       "      <td>0.000000</td>\n",
       "      <td>2.036195</td>\n",
       "      <td>2.637780</td>\n",
       "      <td>0.590476</td>\n",
       "      <td>85</td>\n",
       "      <td>-182.703552</td>\n",
       "      <td>613.493652</td>\n",
       "      <td>-42.427948</td>\n",
       "      <td>97.517282</td>\n",
       "    </tr>\n",
       "    <tr>\n",
       "      <th>1</th>\n",
       "      <td>60.0</td>\n",
       "      <td>1.10</td>\n",
       "      <td>31.712570</td>\n",
       "      <td>25.364740</td>\n",
       "      <td>26.331000</td>\n",
       "      <td>24.549290</td>\n",
       "      <td>41.219030</td>\n",
       "      <td>35.299260</td>\n",
       "      <td>39.702910</td>\n",
       "      <td>44.064040</td>\n",
       "      <td>...</td>\n",
       "      <td>3.354148</td>\n",
       "      <td>0.000000</td>\n",
       "      <td>0.853227</td>\n",
       "      <td>3.912844</td>\n",
       "      <td>0.285714</td>\n",
       "      <td>55</td>\n",
       "      <td>-0.078308</td>\n",
       "      <td>1575.687000</td>\n",
       "      <td>57.174500</td>\n",
       "      <td>3.141455</td>\n",
       "    </tr>\n",
       "    <tr>\n",
       "      <th>2</th>\n",
       "      <td>60.0</td>\n",
       "      <td>3.40</td>\n",
       "      <td>22.575830</td>\n",
       "      <td>17.128170</td>\n",
       "      <td>37.970460</td>\n",
       "      <td>33.485410</td>\n",
       "      <td>44.174920</td>\n",
       "      <td>37.611800</td>\n",
       "      <td>59.265850</td>\n",
       "      <td>62.909730</td>\n",
       "      <td>...</td>\n",
       "      <td>8.886309</td>\n",
       "      <td>0.000000</td>\n",
       "      <td>1.743651</td>\n",
       "      <td>1.950777</td>\n",
       "      <td>0.361905</td>\n",
       "      <td>105</td>\n",
       "      <td>123.649700</td>\n",
       "      <td>1472.010000</td>\n",
       "      <td>232.908900</td>\n",
       "      <td>99.804040</td>\n",
       "    </tr>\n",
       "    <tr>\n",
       "      <th>3</th>\n",
       "      <td>65.0</td>\n",
       "      <td>3.22</td>\n",
       "      <td>14.242329</td>\n",
       "      <td>12.164757</td>\n",
       "      <td>21.448144</td>\n",
       "      <td>21.121356</td>\n",
       "      <td>25.746200</td>\n",
       "      <td>24.374023</td>\n",
       "      <td>56.414429</td>\n",
       "      <td>60.060388</td>\n",
       "      <td>...</td>\n",
       "      <td>9.514499</td>\n",
       "      <td>0.664690</td>\n",
       "      <td>1.258541</td>\n",
       "      <td>1.573733</td>\n",
       "      <td>0.209581</td>\n",
       "      <td>130</td>\n",
       "      <td>-141.024780</td>\n",
       "      <td>1442.185791</td>\n",
       "      <td>58.359802</td>\n",
       "      <td>99.989998</td>\n",
       "    </tr>\n",
       "    <tr>\n",
       "      <th>4</th>\n",
       "      <td>55.0</td>\n",
       "      <td>2.73</td>\n",
       "      <td>24.725520</td>\n",
       "      <td>20.057470</td>\n",
       "      <td>26.464900</td>\n",
       "      <td>25.710460</td>\n",
       "      <td>36.217980</td>\n",
       "      <td>32.608740</td>\n",
       "      <td>46.946070</td>\n",
       "      <td>52.041180</td>\n",
       "      <td>...</td>\n",
       "      <td>6.467562</td>\n",
       "      <td>0.000000</td>\n",
       "      <td>2.085409</td>\n",
       "      <td>2.480509</td>\n",
       "      <td>0.313433</td>\n",
       "      <td>20</td>\n",
       "      <td>-72.315640</td>\n",
       "      <td>1488.720000</td>\n",
       "      <td>21.428960</td>\n",
       "      <td>70.442510</td>\n",
       "    </tr>\n",
       "    <tr>\n",
       "      <th>...</th>\n",
       "      <td>...</td>\n",
       "      <td>...</td>\n",
       "      <td>...</td>\n",
       "      <td>...</td>\n",
       "      <td>...</td>\n",
       "      <td>...</td>\n",
       "      <td>...</td>\n",
       "      <td>...</td>\n",
       "      <td>...</td>\n",
       "      <td>...</td>\n",
       "      <td>...</td>\n",
       "      <td>...</td>\n",
       "      <td>...</td>\n",
       "      <td>...</td>\n",
       "      <td>...</td>\n",
       "      <td>...</td>\n",
       "      <td>...</td>\n",
       "      <td>...</td>\n",
       "      <td>...</td>\n",
       "      <td>...</td>\n",
       "      <td>...</td>\n",
       "    </tr>\n",
       "    <tr>\n",
       "      <th>401054</th>\n",
       "      <td>70.0</td>\n",
       "      <td>6.80</td>\n",
       "      <td>22.574335</td>\n",
       "      <td>14.944666</td>\n",
       "      <td>27.663259</td>\n",
       "      <td>26.767135</td>\n",
       "      <td>35.705132</td>\n",
       "      <td>30.656525</td>\n",
       "      <td>50.784168</td>\n",
       "      <td>60.824438</td>\n",
       "      <td>...</td>\n",
       "      <td>20.210836</td>\n",
       "      <td>2.328066</td>\n",
       "      <td>7.054819</td>\n",
       "      <td>2.169398</td>\n",
       "      <td>0.288920</td>\n",
       "      <td>100</td>\n",
       "      <td>147.187256</td>\n",
       "      <td>1182.317505</td>\n",
       "      <td>122.652588</td>\n",
       "      <td>99.999988</td>\n",
       "    </tr>\n",
       "    <tr>\n",
       "      <th>401055</th>\n",
       "      <td>60.0</td>\n",
       "      <td>3.11</td>\n",
       "      <td>19.977640</td>\n",
       "      <td>16.026870</td>\n",
       "      <td>34.158840</td>\n",
       "      <td>31.011870</td>\n",
       "      <td>39.571870</td>\n",
       "      <td>34.908400</td>\n",
       "      <td>59.678970</td>\n",
       "      <td>62.670170</td>\n",
       "      <td>...</td>\n",
       "      <td>9.340242</td>\n",
       "      <td>1.048147</td>\n",
       "      <td>1.879502</td>\n",
       "      <td>2.910780</td>\n",
       "      <td>0.460000</td>\n",
       "      <td>25</td>\n",
       "      <td>52.349740</td>\n",
       "      <td>1393.187000</td>\n",
       "      <td>127.261700</td>\n",
       "      <td>99.999820</td>\n",
       "    </tr>\n",
       "    <tr>\n",
       "      <th>401056</th>\n",
       "      <td>65.0</td>\n",
       "      <td>2.05</td>\n",
       "      <td>17.332567</td>\n",
       "      <td>12.364397</td>\n",
       "      <td>29.845326</td>\n",
       "      <td>26.500073</td>\n",
       "      <td>34.513206</td>\n",
       "      <td>29.242644</td>\n",
       "      <td>59.854275</td>\n",
       "      <td>64.987196</td>\n",
       "      <td>...</td>\n",
       "      <td>5.999862</td>\n",
       "      <td>0.607554</td>\n",
       "      <td>1.702824</td>\n",
       "      <td>2.205272</td>\n",
       "      <td>0.183099</td>\n",
       "      <td>40</td>\n",
       "      <td>54.622246</td>\n",
       "      <td>1065.263672</td>\n",
       "      <td>-106.833740</td>\n",
       "      <td>99.999416</td>\n",
       "    </tr>\n",
       "    <tr>\n",
       "      <th>401057</th>\n",
       "      <td>30.0</td>\n",
       "      <td>2.80</td>\n",
       "      <td>22.288570</td>\n",
       "      <td>9.564721</td>\n",
       "      <td>28.431200</td>\n",
       "      <td>27.012250</td>\n",
       "      <td>36.126360</td>\n",
       "      <td>28.655640</td>\n",
       "      <td>51.905420</td>\n",
       "      <td>70.501540</td>\n",
       "      <td>...</td>\n",
       "      <td>9.113276</td>\n",
       "      <td>1.078204</td>\n",
       "      <td>3.680175</td>\n",
       "      <td>1.957157</td>\n",
       "      <td>0.161850</td>\n",
       "      <td>140</td>\n",
       "      <td>-9.861557</td>\n",
       "      <td>877.527000</td>\n",
       "      <td>-76.982120</td>\n",
       "      <td>100.000000</td>\n",
       "    </tr>\n",
       "    <tr>\n",
       "      <th>401058</th>\n",
       "      <td>50.0</td>\n",
       "      <td>3.30</td>\n",
       "      <td>16.792900</td>\n",
       "      <td>11.434730</td>\n",
       "      <td>21.457220</td>\n",
       "      <td>21.214910</td>\n",
       "      <td>27.247270</td>\n",
       "      <td>24.100320</td>\n",
       "      <td>51.952470</td>\n",
       "      <td>61.675560</td>\n",
       "      <td>...</td>\n",
       "      <td>10.128920</td>\n",
       "      <td>1.088073</td>\n",
       "      <td>3.068755</td>\n",
       "      <td>3.199104</td>\n",
       "      <td>0.197917</td>\n",
       "      <td>45</td>\n",
       "      <td>-258.872300</td>\n",
       "      <td>148.606200</td>\n",
       "      <td>107.710600</td>\n",
       "      <td>99.999960</td>\n",
       "    </tr>\n",
       "  </tbody>\n",
       "</table>\n",
       "<p>401059 rows × 35 columns</p>\n",
       "</div>"
      ],
      "text/plain": [
       "        age_approx  clin_size_long_diam_mm   tbp_lv_A  tbp_lv_Aext   tbp_lv_B  \\\n",
       "0             60.0                    3.04  20.244422    16.261975  26.922447   \n",
       "1             60.0                    1.10  31.712570    25.364740  26.331000   \n",
       "2             60.0                    3.40  22.575830    17.128170  37.970460   \n",
       "3             65.0                    3.22  14.242329    12.164757  21.448144   \n",
       "4             55.0                    2.73  24.725520    20.057470  26.464900   \n",
       "...            ...                     ...        ...          ...        ...   \n",
       "401054        70.0                    6.80  22.574335    14.944666  27.663259   \n",
       "401055        60.0                    3.11  19.977640    16.026870  34.158840   \n",
       "401056        65.0                    2.05  17.332567    12.364397  29.845326   \n",
       "401057        30.0                    2.80  22.288570     9.564721  28.431200   \n",
       "401058        50.0                    3.30  16.792900    11.434730  21.457220   \n",
       "\n",
       "        tbp_lv_Bext   tbp_lv_C  tbp_lv_Cext   tbp_lv_H  tbp_lv_Hext  ...  \\\n",
       "0         23.954773  33.684638    28.953117  53.058545    55.828924  ...   \n",
       "1         24.549290  41.219030    35.299260  39.702910    44.064040  ...   \n",
       "2         33.485410  44.174920    37.611800  59.265850    62.909730  ...   \n",
       "3         21.121356  25.746200    24.374023  56.414429    60.060388  ...   \n",
       "4         25.710460  36.217980    32.608740  46.946070    52.041180  ...   \n",
       "...             ...        ...          ...        ...          ...  ...   \n",
       "401054    26.767135  35.705132    30.656525  50.784168    60.824438  ...   \n",
       "401055    31.011870  39.571870    34.908400  59.678970    62.670170  ...   \n",
       "401056    26.500073  34.513206    29.242644  59.854275    64.987196  ...   \n",
       "401057    27.012250  36.126360    28.655640  51.905420    70.501540  ...   \n",
       "401058    21.214910  27.247270    24.100320  51.952470    61.675560  ...   \n",
       "\n",
       "        tbp_lv_perimeterMM  tbp_lv_radial_color_std_max  tbp_lv_stdL  \\\n",
       "0                 9.307003                     0.000000     2.036195   \n",
       "1                 3.354148                     0.000000     0.853227   \n",
       "2                 8.886309                     0.000000     1.743651   \n",
       "3                 9.514499                     0.664690     1.258541   \n",
       "4                 6.467562                     0.000000     2.085409   \n",
       "...                    ...                          ...          ...   \n",
       "401054           20.210836                     2.328066     7.054819   \n",
       "401055            9.340242                     1.048147     1.879502   \n",
       "401056            5.999862                     0.607554     1.702824   \n",
       "401057            9.113276                     1.078204     3.680175   \n",
       "401058           10.128920                     1.088073     3.068755   \n",
       "\n",
       "        tbp_lv_stdLExt  tbp_lv_symm_2axis  tbp_lv_symm_2axis_angle  \\\n",
       "0             2.637780           0.590476                       85   \n",
       "1             3.912844           0.285714                       55   \n",
       "2             1.950777           0.361905                      105   \n",
       "3             1.573733           0.209581                      130   \n",
       "4             2.480509           0.313433                       20   \n",
       "...                ...                ...                      ...   \n",
       "401054        2.169398           0.288920                      100   \n",
       "401055        2.910780           0.460000                       25   \n",
       "401056        2.205272           0.183099                       40   \n",
       "401057        1.957157           0.161850                      140   \n",
       "401058        3.199104           0.197917                       45   \n",
       "\n",
       "          tbp_lv_x     tbp_lv_y    tbp_lv_z  tbp_lv_dnn_lesion_confidence  \n",
       "0      -182.703552   613.493652  -42.427948                     97.517282  \n",
       "1        -0.078308  1575.687000   57.174500                      3.141455  \n",
       "2       123.649700  1472.010000  232.908900                     99.804040  \n",
       "3      -141.024780  1442.185791   58.359802                     99.989998  \n",
       "4       -72.315640  1488.720000   21.428960                     70.442510  \n",
       "...            ...          ...         ...                           ...  \n",
       "401054  147.187256  1182.317505  122.652588                     99.999988  \n",
       "401055   52.349740  1393.187000  127.261700                     99.999820  \n",
       "401056   54.622246  1065.263672 -106.833740                     99.999416  \n",
       "401057   -9.861557   877.527000  -76.982120                    100.000000  \n",
       "401058 -258.872300   148.606200  107.710600                     99.999960  \n",
       "\n",
       "[401059 rows x 35 columns]"
      ]
     },
     "execution_count": 14,
     "metadata": {},
     "output_type": "execute_result"
    }
   ],
   "source": [
    "X = df.drop(columns='target')\n",
    "y = df['target']\n",
    "X"
   ]
  },
  {
   "cell_type": "code",
   "execution_count": 15,
   "id": "b2d35240",
   "metadata": {},
   "outputs": [
    {
     "data": {
      "text/plain": [
       "0         0\n",
       "1         0\n",
       "2         0\n",
       "3         0\n",
       "4         0\n",
       "         ..\n",
       "401054    0\n",
       "401055    0\n",
       "401056    0\n",
       "401057    0\n",
       "401058    0\n",
       "Name: target, Length: 401059, dtype: int64"
      ]
     },
     "execution_count": 15,
     "metadata": {},
     "output_type": "execute_result"
    }
   ],
   "source": [
    "y"
   ]
  },
  {
   "cell_type": "code",
   "execution_count": 17,
   "id": "8df93c17",
   "metadata": {},
   "outputs": [],
   "source": [
    "# importing the models\n",
    "from sklearn.model_selection import train_test_split\n",
    "from sklearn.linear_model import LogisticRegression\n",
    "from sklearn.model_selection import train_test_split\n",
    "from sklearn.metrics import accuracy_score \n",
    "from sklearn.metrics import confusion_matrix\n",
    "from sklearn.metrics import classification_report\n",
    "from sklearn.metrics import roc_curve, auc, roc_auc_score"
   ]
  },
  {
   "cell_type": "code",
   "execution_count": 18,
   "id": "3036d41f",
   "metadata": {},
   "outputs": [],
   "source": [
    "X_train, X_test, y_train, y_test = train_test_split(X, y, test_size=0.2, stratify=y, random_state=42)"
   ]
  },
  {
   "cell_type": "code",
   "execution_count": 19,
   "id": "a2bfe9cc",
   "metadata": {},
   "outputs": [
    {
     "data": {
      "text/plain": [
       "((401059, 35), (320847, 35), (80212, 35), (401059,), (320847,), (80212,))"
      ]
     },
     "execution_count": 19,
     "metadata": {},
     "output_type": "execute_result"
    }
   ],
   "source": [
    "X.shape, X_train.shape, X_test.shape,y.shape,y_train.shape,y_test.shape"
   ]
  },
  {
   "cell_type": "markdown",
   "id": "192e83f8",
   "metadata": {},
   "source": [
    "### MODEL FITTING"
   ]
  },
  {
   "cell_type": "code",
   "execution_count": 20,
   "id": "138959f0",
   "metadata": {},
   "outputs": [],
   "source": [
    "model = LogisticRegression(max_iter=1000)"
   ]
  },
  {
   "cell_type": "code",
   "execution_count": 21,
   "id": "18a7138f",
   "metadata": {},
   "outputs": [
    {
     "name": "stderr",
     "output_type": "stream",
     "text": [
      "C:\\Users\\DELL\\anaconda3\\Lib\\site-packages\\sklearn\\linear_model\\_logistic.py:458: ConvergenceWarning: lbfgs failed to converge (status=1):\n",
      "STOP: TOTAL NO. of ITERATIONS REACHED LIMIT.\n",
      "\n",
      "Increase the number of iterations (max_iter) or scale the data as shown in:\n",
      "    https://scikit-learn.org/stable/modules/preprocessing.html\n",
      "Please also refer to the documentation for alternative solver options:\n",
      "    https://scikit-learn.org/stable/modules/linear_model.html#logistic-regression\n",
      "  n_iter_i = _check_optimize_result(\n"
     ]
    },
    {
     "data": {
      "text/html": [
       "<style>#sk-container-id-1 {color: black;background-color: white;}#sk-container-id-1 pre{padding: 0;}#sk-container-id-1 div.sk-toggleable {background-color: white;}#sk-container-id-1 label.sk-toggleable__label {cursor: pointer;display: block;width: 100%;margin-bottom: 0;padding: 0.3em;box-sizing: border-box;text-align: center;}#sk-container-id-1 label.sk-toggleable__label-arrow:before {content: \"▸\";float: left;margin-right: 0.25em;color: #696969;}#sk-container-id-1 label.sk-toggleable__label-arrow:hover:before {color: black;}#sk-container-id-1 div.sk-estimator:hover label.sk-toggleable__label-arrow:before {color: black;}#sk-container-id-1 div.sk-toggleable__content {max-height: 0;max-width: 0;overflow: hidden;text-align: left;background-color: #f0f8ff;}#sk-container-id-1 div.sk-toggleable__content pre {margin: 0.2em;color: black;border-radius: 0.25em;background-color: #f0f8ff;}#sk-container-id-1 input.sk-toggleable__control:checked~div.sk-toggleable__content {max-height: 200px;max-width: 100%;overflow: auto;}#sk-container-id-1 input.sk-toggleable__control:checked~label.sk-toggleable__label-arrow:before {content: \"▾\";}#sk-container-id-1 div.sk-estimator input.sk-toggleable__control:checked~label.sk-toggleable__label {background-color: #d4ebff;}#sk-container-id-1 div.sk-label input.sk-toggleable__control:checked~label.sk-toggleable__label {background-color: #d4ebff;}#sk-container-id-1 input.sk-hidden--visually {border: 0;clip: rect(1px 1px 1px 1px);clip: rect(1px, 1px, 1px, 1px);height: 1px;margin: -1px;overflow: hidden;padding: 0;position: absolute;width: 1px;}#sk-container-id-1 div.sk-estimator {font-family: monospace;background-color: #f0f8ff;border: 1px dotted black;border-radius: 0.25em;box-sizing: border-box;margin-bottom: 0.5em;}#sk-container-id-1 div.sk-estimator:hover {background-color: #d4ebff;}#sk-container-id-1 div.sk-parallel-item::after {content: \"\";width: 100%;border-bottom: 1px solid gray;flex-grow: 1;}#sk-container-id-1 div.sk-label:hover label.sk-toggleable__label {background-color: #d4ebff;}#sk-container-id-1 div.sk-serial::before {content: \"\";position: absolute;border-left: 1px solid gray;box-sizing: border-box;top: 0;bottom: 0;left: 50%;z-index: 0;}#sk-container-id-1 div.sk-serial {display: flex;flex-direction: column;align-items: center;background-color: white;padding-right: 0.2em;padding-left: 0.2em;position: relative;}#sk-container-id-1 div.sk-item {position: relative;z-index: 1;}#sk-container-id-1 div.sk-parallel {display: flex;align-items: stretch;justify-content: center;background-color: white;position: relative;}#sk-container-id-1 div.sk-item::before, #sk-container-id-1 div.sk-parallel-item::before {content: \"\";position: absolute;border-left: 1px solid gray;box-sizing: border-box;top: 0;bottom: 0;left: 50%;z-index: -1;}#sk-container-id-1 div.sk-parallel-item {display: flex;flex-direction: column;z-index: 1;position: relative;background-color: white;}#sk-container-id-1 div.sk-parallel-item:first-child::after {align-self: flex-end;width: 50%;}#sk-container-id-1 div.sk-parallel-item:last-child::after {align-self: flex-start;width: 50%;}#sk-container-id-1 div.sk-parallel-item:only-child::after {width: 0;}#sk-container-id-1 div.sk-dashed-wrapped {border: 1px dashed gray;margin: 0 0.4em 0.5em 0.4em;box-sizing: border-box;padding-bottom: 0.4em;background-color: white;}#sk-container-id-1 div.sk-label label {font-family: monospace;font-weight: bold;display: inline-block;line-height: 1.2em;}#sk-container-id-1 div.sk-label-container {text-align: center;}#sk-container-id-1 div.sk-container {/* jupyter's `normalize.less` sets `[hidden] { display: none; }` but bootstrap.min.css set `[hidden] { display: none !important; }` so we also need the `!important` here to be able to override the default hidden behavior on the sphinx rendered scikit-learn.org. See: https://github.com/scikit-learn/scikit-learn/issues/21755 */display: inline-block !important;position: relative;}#sk-container-id-1 div.sk-text-repr-fallback {display: none;}</style><div id=\"sk-container-id-1\" class=\"sk-top-container\"><div class=\"sk-text-repr-fallback\"><pre>LogisticRegression(max_iter=1000)</pre><b>In a Jupyter environment, please rerun this cell to show the HTML representation or trust the notebook. <br />On GitHub, the HTML representation is unable to render, please try loading this page with nbviewer.org.</b></div><div class=\"sk-container\" hidden><div class=\"sk-item\"><div class=\"sk-estimator sk-toggleable\"><input class=\"sk-toggleable__control sk-hidden--visually\" id=\"sk-estimator-id-1\" type=\"checkbox\" checked><label for=\"sk-estimator-id-1\" class=\"sk-toggleable__label sk-toggleable__label-arrow\">LogisticRegression</label><div class=\"sk-toggleable__content\"><pre>LogisticRegression(max_iter=1000)</pre></div></div></div></div></div>"
      ],
      "text/plain": [
       "LogisticRegression(max_iter=1000)"
      ]
     },
     "execution_count": 21,
     "metadata": {},
     "output_type": "execute_result"
    }
   ],
   "source": [
    "# training the LogisticRegression model with Training data\n",
    "model.fit(X_train, y_train)"
   ]
  },
  {
   "cell_type": "markdown",
   "id": "6f445b99",
   "metadata": {},
   "source": [
    "### METRICS FOR TRAIN DATA"
   ]
  },
  {
   "cell_type": "code",
   "execution_count": 22,
   "id": "1de8b148",
   "metadata": {},
   "outputs": [
    {
     "name": "stdout",
     "output_type": "stream",
     "text": [
      "0.9990182236393047\n"
     ]
    }
   ],
   "source": [
    "# accuracy on training data\n",
    "y_train_prediction = model.predict(X_train)\n",
    "training_data_accuracy = accuracy_score(y_train, y_train_prediction)\n",
    "print(training_data_accuracy)"
   ]
  },
  {
   "cell_type": "code",
   "execution_count": 23,
   "id": "b3c0e6ae",
   "metadata": {},
   "outputs": [
    {
     "name": "stdout",
     "output_type": "stream",
     "text": [
      "Accuracy on Training data :  99.9 %\n"
     ]
    }
   ],
   "source": [
    "print('Accuracy on Training data : ', round(training_data_accuracy*100, 2), '%')"
   ]
  },
  {
   "cell_type": "code",
   "execution_count": 24,
   "id": "a33cd103",
   "metadata": {},
   "outputs": [
    {
     "name": "stdout",
     "output_type": "stream",
     "text": [
      "[[320525      8]\n",
      " [   307      7]]\n"
     ]
    }
   ],
   "source": [
    "cf_matrix = confusion_matrix(y_train,y_train_prediction)\n",
    "print(cf_matrix)"
   ]
  },
  {
   "cell_type": "code",
   "execution_count": 25,
   "id": "96fc7157",
   "metadata": {},
   "outputs": [
    {
     "name": "stdout",
     "output_type": "stream",
     "text": [
      "320525 8 307 7\n"
     ]
    }
   ],
   "source": [
    "tp, fp, fn, tn = cf_matrix.ravel()\n",
    "print(tp, fp, fn, tn)"
   ]
  },
  {
   "cell_type": "code",
   "execution_count": 26,
   "id": "87b0bb6e",
   "metadata": {},
   "outputs": [
    {
     "data": {
      "text/plain": [
       "<Axes: >"
      ]
     },
     "execution_count": 26,
     "metadata": {},
     "output_type": "execute_result"
    },
    {
     "data": {
      "image/png": "[encoded data removed]",
      "text/plain": [
       "<Figure size 640x480 with 2 Axes>"
      ]
     },
     "metadata": {},
     "output_type": "display_data"
    }
   ],
   "source": [
    "import seaborn as sns\n",
    "sns.heatmap(cf_matrix, annot=True)"
   ]
  },
  {
   "cell_type": "markdown",
   "id": "d456bdf5",
   "metadata": {},
   "source": [
    "### METRICS FOR TEST DATA"
   ]
  },
  {
   "cell_type": "code",
   "execution_count": 27,
   "id": "78da15e7",
   "metadata": {},
   "outputs": [
    {
     "name": "stdout",
     "output_type": "stream",
     "text": [
      "0.998977709070962\n"
     ]
    }
   ],
   "source": [
    "# accuracy on training data\n",
    "y_test_prediction = model.predict(X_test)\n",
    "test_data_accuracy = accuracy_score(y_test, y_test_prediction)\n",
    "print(test_data_accuracy)"
   ]
  },
  {
   "cell_type": "code",
   "execution_count": 28,
   "id": "54adabfd",
   "metadata": {},
   "outputs": [
    {
     "name": "stdout",
     "output_type": "stream",
     "text": [
      "Accuracy on Test data :  99.9 %\n"
     ]
    }
   ],
   "source": [
    "print('Accuracy on Test data : ', round(test_data_accuracy*100, 2), '%')"
   ]
  },
  {
   "cell_type": "code",
   "execution_count": 29,
   "id": "6e9e2d31",
   "metadata": {},
   "outputs": [
    {
     "name": "stdout",
     "output_type": "stream",
     "text": [
      "[[80130     3]\n",
      " [   79     0]]\n"
     ]
    }
   ],
   "source": [
    "cf_matrix = confusion_matrix(y_test,y_test_prediction)\n",
    "print(cf_matrix)"
   ]
  },
  {
   "cell_type": "code",
   "execution_count": 30,
   "id": "678f1da6",
   "metadata": {},
   "outputs": [
    {
     "name": "stdout",
     "output_type": "stream",
     "text": [
      "80130 3 79 0\n"
     ]
    }
   ],
   "source": [
    "tp, fp, fn, tn = cf_matrix.ravel()\n",
    "print(tp, fp, fn, tn)"
   ]
  },
  {
   "cell_type": "code",
   "execution_count": 31,
   "id": "3bf9c1d4",
   "metadata": {},
   "outputs": [
    {
     "data": {
      "text/plain": [
       "<Axes: >"
      ]
     },
     "execution_count": 31,
     "metadata": {},
     "output_type": "execute_result"
    },
    {
     "data": {
      "image/png": "[encoded data removed]",
      "text/plain": [
       "<Figure size 640x480 with 2 Axes>"
      ]
     },
     "metadata": {},
     "output_type": "display_data"
    }
   ],
   "source": [
    "import seaborn as sns\n",
    "sns.heatmap(cf_matrix, annot=True)"
   ]
  },
  {
   "cell_type": "markdown",
   "id": "9c3b52d1",
   "metadata": {},
   "source": [
    "### CLASSIFICATION REPORT FOR TRAIN DATA"
   ]
  },
  {
   "cell_type": "code",
   "execution_count": 32,
   "id": "16a94fbf",
   "metadata": {},
   "outputs": [
    {
     "name": "stdout",
     "output_type": "stream",
     "text": [
      "              precision    recall  f1-score   support\n",
      "\n",
      "           0       1.00      1.00      1.00    320533\n",
      "           1       0.47      0.02      0.04       314\n",
      "\n",
      "    accuracy                           1.00    320847\n",
      "   macro avg       0.73      0.51      0.52    320847\n",
      "weighted avg       1.00      1.00      1.00    320847\n",
      "\n"
     ]
    }
   ],
   "source": [
    "print(classification_report(y_train,model.predict(X_train)))"
   ]
  },
  {
   "cell_type": "markdown",
   "id": "c53637c9",
   "metadata": {},
   "source": [
    "### CLASSIFICATION REPORT FOR TEST DATA"
   ]
  },
  {
   "cell_type": "code",
   "execution_count": 33,
   "id": "863ac615",
   "metadata": {},
   "outputs": [
    {
     "name": "stdout",
     "output_type": "stream",
     "text": [
      "              precision    recall  f1-score   support\n",
      "\n",
      "           0       1.00      1.00      1.00     80133\n",
      "           1       0.00      0.00      0.00        79\n",
      "\n",
      "    accuracy                           1.00     80212\n",
      "   macro avg       0.50      0.50      0.50     80212\n",
      "weighted avg       1.00      1.00      1.00     80212\n",
      "\n"
     ]
    }
   ],
   "source": [
    "print(classification_report(y_test,model.predict(X_test)))"
   ]
  },
  {
   "cell_type": "markdown",
   "id": "700efc6f",
   "metadata": {},
   "source": [
    "### AUC & ROC SCORE "
   ]
  },
  {
   "cell_type": "code",
   "execution_count": 34,
   "id": "dc8079e0",
   "metadata": {},
   "outputs": [],
   "source": [
    "y_probs = model.predict_proba(X_test)[:, 1]"
   ]
  },
  {
   "cell_type": "code",
   "execution_count": 35,
   "id": "9994c27b",
   "metadata": {},
   "outputs": [
    {
     "name": "stdout",
     "output_type": "stream",
     "text": [
      "AUC-ROC Score: 0.89\n"
     ]
    }
   ],
   "source": [
    "# Calculate AUC-ROC score\n",
    "auc_roc = roc_auc_score(y_test, y_probs)\n",
    "print(f'AUC-ROC Score: {auc_roc:.2f}')"
   ]
  },
  {
   "cell_type": "code",
   "execution_count": 36,
   "id": "f0bd91bc",
   "metadata": {},
   "outputs": [],
   "source": [
    "# Calculate ROC curve\n",
    "fpr, tpr, thresholds = roc_curve(y_test, y_probs)"
   ]
  },
  {
   "cell_type": "code",
   "execution_count": 37,
   "id": "ceb344d1",
   "metadata": {},
   "outputs": [],
   "source": [
    "# Calculate AUC-ROC score\n",
    "auc_roc = auc(fpr, tpr)"
   ]
  },
  {
   "cell_type": "code",
   "execution_count": 38,
   "id": "c8e2195e",
   "metadata": {},
   "outputs": [
    {
     "data": {
      "image/png": "[encoded data removed]",
      "text/plain": [
       "<Figure size 640x480 with 1 Axes>"
      ]
     },
     "metadata": {},
     "output_type": "display_data"
    }
   ],
   "source": [
    "# Plot ROC curve\n",
    "plt.figure()\n",
    "plt.plot(fpr, tpr, color='blue', lw=2, label=f'ROC curve (AUC = {auc_roc:.2f})')\n",
    "plt.plot([0, 1], [0, 1], color='orange', lw=2, linestyle='--')\n",
    "plt.xlim([0.0, 1.0])\n",
    "plt.ylim([0.0, 1.05])\n",
    "plt.xlabel('False Positive Rate')\n",
    "plt.ylabel('True Positive Rate')\n",
    "plt.title('Receiver Operating Characteristic (ROC) Curve')\n",
    "plt.legend(loc='lower right')\n",
    "plt.show()"
   ]
  },
  {
   "cell_type": "code",
   "execution_count": 39,
   "id": "507aafc4",
   "metadata": {},
   "outputs": [],
   "source": [
    "# Define the range for the partial AUC\n",
    "fpr_range = (0.0, 0.2)  \n",
    "# Find the indices within the specified FPR range\n",
    "indices = np.where((fpr >= fpr_range[0]) & (fpr <= fpr_range[1]))"
   ]
  },
  {
   "cell_type": "code",
   "execution_count": 40,
   "id": "81109317",
   "metadata": {},
   "outputs": [],
   "source": [
    "# Calculate the partial AUC\n",
    "partial_auc = auc(fpr[indices], tpr[indices])"
   ]
  },
  {
   "cell_type": "code",
   "execution_count": 41,
   "id": "d6528718",
   "metadata": {},
   "outputs": [
    {
     "data": {
      "image/png": "[encoded data removed]",
      "text/plain": [
       "<Figure size 640x480 with 1 Axes>"
      ]
     },
     "metadata": {},
     "output_type": "display_data"
    }
   ],
   "source": [
    "# Plot ROC curve\n",
    "plt.figure()\n",
    "plt.plot(fpr, tpr, color='blue', lw=2, label=f'ROC curve (AUC = {auc(fpr, tpr):.2f})')\n",
    "plt.fill_between(fpr[indices], tpr[indices], alpha=0.3, color='green', label=f'pAUC = {partial_auc:.2f}')\n",
    "plt.plot([0, 1], [0, 1], color='orange', lw=2, linestyle='--')\n",
    "plt.xlim([0.0, 1.0])\n",
    "plt.ylim([0.0, 1.05])\n",
    "plt.xlabel('False Positive Rate')\n",
    "plt.ylabel('True Positive Rate')\n",
    "plt.title('Receiver Operating Characteristic (ROC) Curve with pAUC')\n",
    "plt.legend(loc='lower right')\n",
    "plt.show()"
   ]
  },
  {
   "cell_type": "code",
   "execution_count": 42,
   "id": "0b46a033",
   "metadata": {},
   "outputs": [],
   "source": [
    "final = pd.concat([df1, df], ignore_index=True)"
   ]
  },
  {
   "cell_type": "code",
   "execution_count": 43,
   "id": "929a3ea2",
   "metadata": {},
   "outputs": [
    {
     "data": {
      "text/plain": [
       "(802118, 48)"
      ]
     },
     "execution_count": 43,
     "metadata": {},
     "output_type": "execute_result"
    }
   ],
   "source": [
    "final.shape"
   ]
  },
  {
   "cell_type": "code",
   "execution_count": null,
   "id": "706e41fc",
   "metadata": {},
   "outputs": [],
   "source": []
  },
  {
   "cell_type": "code",
   "execution_count": 44,
   "id": "9b270e2d",
   "metadata": {},
   "outputs": [],
   "source": [
    "Xf=final.tail(401059).values"
   ]
  },
  {
   "cell_type": "code",
   "execution_count": 45,
   "id": "0e8a768a",
   "metadata": {},
   "outputs": [],
   "source": [
    "X=final.head(401059).values"
   ]
  },
  {
   "cell_type": "code",
   "execution_count": 46,
   "id": "ba948f7c",
   "metadata": {},
   "outputs": [
    {
     "data": {
      "text/plain": [
       "(401059, 48)"
      ]
     },
     "execution_count": 46,
     "metadata": {},
     "output_type": "execute_result"
    }
   ],
   "source": [
    "X.shape"
   ]
  },
  {
   "cell_type": "code",
   "execution_count": 47,
   "id": "2185ca4e",
   "metadata": {},
   "outputs": [
    {
     "data": {
      "text/plain": [
       "(401059,)"
      ]
     },
     "execution_count": 47,
     "metadata": {},
     "output_type": "execute_result"
    }
   ],
   "source": [
    "y.shape"
   ]
  },
  {
   "cell_type": "code",
   "execution_count": 48,
   "id": "ebd1f41a",
   "metadata": {},
   "outputs": [
    {
     "name": "stdout",
     "output_type": "stream",
     "text": [
      "Lengths do not match. Please check your predictions and DataFrame.\n",
      "Submission file created successfully.\n"
     ]
    }
   ],
   "source": [
    "# Ensure that y_test_prediction and df are of the same length\n",
    "if len(y_test_prediction) == len(final):\n",
    "    # Assign predictions to the DataFrame\n",
    "    final['target'] = y_test_prediction\n",
    "else:\n",
    "    print(\"Lengths do not match. Please check your predictions and DataFrame.\")\n",
    "\n",
    "# New DataFrame for submission with specific columns \n",
    "submission_df = final[['isic_id','target']]  \n",
    "\n",
    "# Save the DataFrame to a CSV file\n",
    "submission_df.to_csv('submission.csv', index=False)\n",
    "print(\"Submission file created successfully.\")"
   ]
  },
  {
   "cell_type": "code",
   "execution_count": 49,
   "id": "c318aceb",
   "metadata": {},
   "outputs": [
    {
     "data": {
      "text/html": [
       "<div>\n",
       "<style scoped>\n",
       "    .dataframe tbody tr th:only-of-type {\n",
       "        vertical-align: middle;\n",
       "    }\n",
       "\n",
       "    .dataframe tbody tr th {\n",
       "        vertical-align: top;\n",
       "    }\n",
       "\n",
       "    .dataframe thead th {\n",
       "        text-align: right;\n",
       "    }\n",
       "</style>\n",
       "<table border=\"1\" class=\"dataframe\">\n",
       "  <thead>\n",
       "    <tr style=\"text-align: right;\">\n",
       "      <th></th>\n",
       "      <th>isic_id</th>\n",
       "      <th>target</th>\n",
       "    </tr>\n",
       "  </thead>\n",
       "  <tbody>\n",
       "    <tr>\n",
       "      <th>0</th>\n",
       "      <td>ISIC_0015670</td>\n",
       "      <td>NaN</td>\n",
       "    </tr>\n",
       "    <tr>\n",
       "      <th>1</th>\n",
       "      <td>ISIC_0015845</td>\n",
       "      <td>NaN</td>\n",
       "    </tr>\n",
       "    <tr>\n",
       "      <th>2</th>\n",
       "      <td>ISIC_0015864</td>\n",
       "      <td>NaN</td>\n",
       "    </tr>\n",
       "    <tr>\n",
       "      <th>3</th>\n",
       "      <td>ISIC_0015902</td>\n",
       "      <td>NaN</td>\n",
       "    </tr>\n",
       "    <tr>\n",
       "      <th>4</th>\n",
       "      <td>ISIC_0024200</td>\n",
       "      <td>NaN</td>\n",
       "    </tr>\n",
       "    <tr>\n",
       "      <th>5</th>\n",
       "      <td>ISIC_0035502</td>\n",
       "      <td>NaN</td>\n",
       "    </tr>\n",
       "    <tr>\n",
       "      <th>6</th>\n",
       "      <td>ISIC_0051648</td>\n",
       "      <td>NaN</td>\n",
       "    </tr>\n",
       "    <tr>\n",
       "      <th>7</th>\n",
       "      <td>ISIC_0051665</td>\n",
       "      <td>NaN</td>\n",
       "    </tr>\n",
       "    <tr>\n",
       "      <th>8</th>\n",
       "      <td>ISIC_0051710</td>\n",
       "      <td>NaN</td>\n",
       "    </tr>\n",
       "    <tr>\n",
       "      <th>9</th>\n",
       "      <td>ISIC_0051758</td>\n",
       "      <td>NaN</td>\n",
       "    </tr>\n",
       "  </tbody>\n",
       "</table>\n",
       "</div>"
      ],
      "text/plain": [
       "        isic_id  target\n",
       "0  ISIC_0015670     NaN\n",
       "1  ISIC_0015845     NaN\n",
       "2  ISIC_0015864     NaN\n",
       "3  ISIC_0015902     NaN\n",
       "4  ISIC_0024200     NaN\n",
       "5  ISIC_0035502     NaN\n",
       "6  ISIC_0051648     NaN\n",
       "7  ISIC_0051665     NaN\n",
       "8  ISIC_0051710     NaN\n",
       "9  ISIC_0051758     NaN"
      ]
     },
     "execution_count": 49,
     "metadata": {},
     "output_type": "execute_result"
    }
   ],
   "source": [
    "submission_df.head(10)"
   ]
  },
  {
   "cell_type": "code",
   "execution_count": 50,
   "id": "78b829ab",
   "metadata": {},
   "outputs": [
    {
     "data": {
      "text/html": [
       "<div>\n",
       "<style scoped>\n",
       "    .dataframe tbody tr th:only-of-type {\n",
       "        vertical-align: middle;\n",
       "    }\n",
       "\n",
       "    .dataframe tbody tr th {\n",
       "        vertical-align: top;\n",
       "    }\n",
       "\n",
       "    .dataframe thead th {\n",
       "        text-align: right;\n",
       "    }\n",
       "</style>\n",
       "<table border=\"1\" class=\"dataframe\">\n",
       "  <thead>\n",
       "    <tr style=\"text-align: right;\">\n",
       "      <th></th>\n",
       "      <th>isic_id</th>\n",
       "      <th>target</th>\n",
       "    </tr>\n",
       "  </thead>\n",
       "  <tbody>\n",
       "    <tr>\n",
       "      <th>802108</th>\n",
       "      <td>NaN</td>\n",
       "      <td>0.0</td>\n",
       "    </tr>\n",
       "    <tr>\n",
       "      <th>802109</th>\n",
       "      <td>NaN</td>\n",
       "      <td>0.0</td>\n",
       "    </tr>\n",
       "    <tr>\n",
       "      <th>802110</th>\n",
       "      <td>NaN</td>\n",
       "      <td>0.0</td>\n",
       "    </tr>\n",
       "    <tr>\n",
       "      <th>802111</th>\n",
       "      <td>NaN</td>\n",
       "      <td>0.0</td>\n",
       "    </tr>\n",
       "    <tr>\n",
       "      <th>802112</th>\n",
       "      <td>NaN</td>\n",
       "      <td>0.0</td>\n",
       "    </tr>\n",
       "    <tr>\n",
       "      <th>802113</th>\n",
       "      <td>NaN</td>\n",
       "      <td>0.0</td>\n",
       "    </tr>\n",
       "    <tr>\n",
       "      <th>802114</th>\n",
       "      <td>NaN</td>\n",
       "      <td>0.0</td>\n",
       "    </tr>\n",
       "    <tr>\n",
       "      <th>802115</th>\n",
       "      <td>NaN</td>\n",
       "      <td>0.0</td>\n",
       "    </tr>\n",
       "    <tr>\n",
       "      <th>802116</th>\n",
       "      <td>NaN</td>\n",
       "      <td>0.0</td>\n",
       "    </tr>\n",
       "    <tr>\n",
       "      <th>802117</th>\n",
       "      <td>NaN</td>\n",
       "      <td>0.0</td>\n",
       "    </tr>\n",
       "  </tbody>\n",
       "</table>\n",
       "</div>"
      ],
      "text/plain": [
       "       isic_id  target\n",
       "802108     NaN     0.0\n",
       "802109     NaN     0.0\n",
       "802110     NaN     0.0\n",
       "802111     NaN     0.0\n",
       "802112     NaN     0.0\n",
       "802113     NaN     0.0\n",
       "802114     NaN     0.0\n",
       "802115     NaN     0.0\n",
       "802116     NaN     0.0\n",
       "802117     NaN     0.0"
      ]
     },
     "execution_count": 50,
     "metadata": {},
     "output_type": "execute_result"
    }
   ],
   "source": [
    "submission_df.tail(10)"
   ]
  },
  {
   "cell_type": "markdown",
   "id": "db9a534e",
   "metadata": {},
   "source": [
    "********************************************************************DONE****************************************************"
   ]
  }
 ],
 "metadata": {
  "kernelspec": {
   "display_name": "Python 3 (ipykernel)",
   "language": "python",
   "name": "python3"
  },
  "language_info": {
   "codemirror_mode": {
    "name": "ipython",
    "version": 3
   },
   "file_extension": ".py",
   "mimetype": "text/x-python",
   "name": "python",
   "nbconvert_exporter": "python",
   "pygments_lexer": "ipython3",
   "version": "3.11.7"
  }
 },
 "nbformat": 4,
 "nbformat_minor": 5
}
